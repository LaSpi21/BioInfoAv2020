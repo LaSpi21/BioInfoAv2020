{
  "nbformat": 4,
  "nbformat_minor": 0,
  "metadata": {
    "colab": {
      "provenance": [],
      "authorship_tag": "ABX9TyP6/mc0u4MMteCRjzF4Gb6q",
      "include_colab_link": true
    },
    "kernelspec": {
      "name": "python3",
      "display_name": "Python 3"
    },
    "language_info": {
      "name": "python"
    }
  },
  "cells": [
    {
      "cell_type": "markdown",
      "metadata": {
        "id": "view-in-github",
        "colab_type": "text"
      },
      "source": [
        "<a href=\"https://colab.research.google.com/github/LaSpi21/BioInfoAv2020/blob/main/PARK2_LRRK2_Venn.ipynb\" target=\"_parent\"><img src=\"https://colab.research.google.com/assets/colab-badge.svg\" alt=\"Open In Colab\"/></a>"
      ]
    },
    {
      "cell_type": "code",
      "execution_count": 2,
      "metadata": {
        "id": "yK9pN7FwJrZp"
      },
      "outputs": [],
      "source": [
        "import pandas as pd"
      ]
    },
    {
      "cell_type": "code",
      "source": [
        "Tabla = pd.read_csv(\"/content/data_cyto_completa.csv\")"
      ],
      "metadata": {
        "id": "jzGP-k-nK7Ah"
      },
      "execution_count": 121,
      "outputs": []
    },
    {
      "cell_type": "code",
      "source": [
        "Tabla"
      ],
      "metadata": {
        "colab": {
          "base_uri": "https://localhost:8080/",
          "height": 423
        },
        "id": "jflCXKBvLmAM",
        "outputId": "d870d032-54ac-4605-a949-1956cbe43bc4"
      },
      "execution_count": 122,
      "outputs": [
        {
          "output_type": "execute_result",
          "data": {
            "text/plain": [
              "     Official Symbol Interactor A Official Symbol Interactor B  \\\n",
              "0                           5-Mar                       UBE2D3   \n",
              "1                           5-Mar                          VCP   \n",
              "2                           7-Mar                       UBE2D3   \n",
              "3                           7-Mar                       UBE2D3   \n",
              "4                           8-Mar                       UBE2D3   \n",
              "...                           ...                          ...   \n",
              "7656                       ZRANB1                         EDF1   \n",
              "7657                       ZRANB1                     C12orf65   \n",
              "7658                       ZRANB1                        UFD1L   \n",
              "7659                       ZRANB1                        PTRH1   \n",
              "7660                        PARK2                        CNOT4   \n",
              "\n",
              "     Experimental System Type                      Throughput  \n",
              "0                    physical                  Low Throughput  \n",
              "1                    physical                  Low Throughput  \n",
              "2                    physical                  Low Throughput  \n",
              "3                    physical                  Low Throughput  \n",
              "4                    physical                  Low Throughput  \n",
              "...                       ...                             ...  \n",
              "7656                 physical                  Low Throughput  \n",
              "7657                 physical                  Low Throughput  \n",
              "7658                 physical  High Throughput|Low Throughput  \n",
              "7659                 physical  High Throughput|Low Throughput  \n",
              "7660                 physical  High Throughput|Low Throughput  \n",
              "\n",
              "[7661 rows x 4 columns]"
            ],
            "text/html": [
              "\n",
              "\n",
              "  <div id=\"df-0d6b30cf-ea90-40fc-a959-6f186182cb81\">\n",
              "    <div class=\"colab-df-container\">\n",
              "      <div>\n",
              "<style scoped>\n",
              "    .dataframe tbody tr th:only-of-type {\n",
              "        vertical-align: middle;\n",
              "    }\n",
              "\n",
              "    .dataframe tbody tr th {\n",
              "        vertical-align: top;\n",
              "    }\n",
              "\n",
              "    .dataframe thead th {\n",
              "        text-align: right;\n",
              "    }\n",
              "</style>\n",
              "<table border=\"1\" class=\"dataframe\">\n",
              "  <thead>\n",
              "    <tr style=\"text-align: right;\">\n",
              "      <th></th>\n",
              "      <th>Official Symbol Interactor A</th>\n",
              "      <th>Official Symbol Interactor B</th>\n",
              "      <th>Experimental System Type</th>\n",
              "      <th>Throughput</th>\n",
              "    </tr>\n",
              "  </thead>\n",
              "  <tbody>\n",
              "    <tr>\n",
              "      <th>0</th>\n",
              "      <td>5-Mar</td>\n",
              "      <td>UBE2D3</td>\n",
              "      <td>physical</td>\n",
              "      <td>Low Throughput</td>\n",
              "    </tr>\n",
              "    <tr>\n",
              "      <th>1</th>\n",
              "      <td>5-Mar</td>\n",
              "      <td>VCP</td>\n",
              "      <td>physical</td>\n",
              "      <td>Low Throughput</td>\n",
              "    </tr>\n",
              "    <tr>\n",
              "      <th>2</th>\n",
              "      <td>7-Mar</td>\n",
              "      <td>UBE2D3</td>\n",
              "      <td>physical</td>\n",
              "      <td>Low Throughput</td>\n",
              "    </tr>\n",
              "    <tr>\n",
              "      <th>3</th>\n",
              "      <td>7-Mar</td>\n",
              "      <td>UBE2D3</td>\n",
              "      <td>physical</td>\n",
              "      <td>Low Throughput</td>\n",
              "    </tr>\n",
              "    <tr>\n",
              "      <th>4</th>\n",
              "      <td>8-Mar</td>\n",
              "      <td>UBE2D3</td>\n",
              "      <td>physical</td>\n",
              "      <td>Low Throughput</td>\n",
              "    </tr>\n",
              "    <tr>\n",
              "      <th>...</th>\n",
              "      <td>...</td>\n",
              "      <td>...</td>\n",
              "      <td>...</td>\n",
              "      <td>...</td>\n",
              "    </tr>\n",
              "    <tr>\n",
              "      <th>7656</th>\n",
              "      <td>ZRANB1</td>\n",
              "      <td>EDF1</td>\n",
              "      <td>physical</td>\n",
              "      <td>Low Throughput</td>\n",
              "    </tr>\n",
              "    <tr>\n",
              "      <th>7657</th>\n",
              "      <td>ZRANB1</td>\n",
              "      <td>C12orf65</td>\n",
              "      <td>physical</td>\n",
              "      <td>Low Throughput</td>\n",
              "    </tr>\n",
              "    <tr>\n",
              "      <th>7658</th>\n",
              "      <td>ZRANB1</td>\n",
              "      <td>UFD1L</td>\n",
              "      <td>physical</td>\n",
              "      <td>High Throughput|Low Throughput</td>\n",
              "    </tr>\n",
              "    <tr>\n",
              "      <th>7659</th>\n",
              "      <td>ZRANB1</td>\n",
              "      <td>PTRH1</td>\n",
              "      <td>physical</td>\n",
              "      <td>High Throughput|Low Throughput</td>\n",
              "    </tr>\n",
              "    <tr>\n",
              "      <th>7660</th>\n",
              "      <td>PARK2</td>\n",
              "      <td>CNOT4</td>\n",
              "      <td>physical</td>\n",
              "      <td>High Throughput|Low Throughput</td>\n",
              "    </tr>\n",
              "  </tbody>\n",
              "</table>\n",
              "<p>7661 rows × 4 columns</p>\n",
              "</div>\n",
              "      <button class=\"colab-df-convert\" onclick=\"convertToInteractive('df-0d6b30cf-ea90-40fc-a959-6f186182cb81')\"\n",
              "              title=\"Convert this dataframe to an interactive table.\"\n",
              "              style=\"display:none;\">\n",
              "\n",
              "  <svg xmlns=\"http://www.w3.org/2000/svg\" height=\"24px\"viewBox=\"0 0 24 24\"\n",
              "       width=\"24px\">\n",
              "    <path d=\"M0 0h24v24H0V0z\" fill=\"none\"/>\n",
              "    <path d=\"M18.56 5.44l.94 2.06.94-2.06 2.06-.94-2.06-.94-.94-2.06-.94 2.06-2.06.94zm-11 1L8.5 8.5l.94-2.06 2.06-.94-2.06-.94L8.5 2.5l-.94 2.06-2.06.94zm10 10l.94 2.06.94-2.06 2.06-.94-2.06-.94-.94-2.06-.94 2.06-2.06.94z\"/><path d=\"M17.41 7.96l-1.37-1.37c-.4-.4-.92-.59-1.43-.59-.52 0-1.04.2-1.43.59L10.3 9.45l-7.72 7.72c-.78.78-.78 2.05 0 2.83L4 21.41c.39.39.9.59 1.41.59.51 0 1.02-.2 1.41-.59l7.78-7.78 2.81-2.81c.8-.78.8-2.07 0-2.86zM5.41 20L4 18.59l7.72-7.72 1.47 1.35L5.41 20z\"/>\n",
              "  </svg>\n",
              "      </button>\n",
              "\n",
              "\n",
              "\n",
              "    <div id=\"df-95e07baa-0540-4be7-9408-9bd4332ab1c9\">\n",
              "      <button class=\"colab-df-quickchart\" onclick=\"quickchart('df-95e07baa-0540-4be7-9408-9bd4332ab1c9')\"\n",
              "              title=\"Suggest charts.\"\n",
              "              style=\"display:none;\">\n",
              "\n",
              "<svg xmlns=\"http://www.w3.org/2000/svg\" height=\"24px\"viewBox=\"0 0 24 24\"\n",
              "     width=\"24px\">\n",
              "    <g>\n",
              "        <path d=\"M19 3H5c-1.1 0-2 .9-2 2v14c0 1.1.9 2 2 2h14c1.1 0 2-.9 2-2V5c0-1.1-.9-2-2-2zM9 17H7v-7h2v7zm4 0h-2V7h2v10zm4 0h-2v-4h2v4z\"/>\n",
              "    </g>\n",
              "</svg>\n",
              "      </button>\n",
              "    </div>\n",
              "\n",
              "<style>\n",
              "  .colab-df-quickchart {\n",
              "    background-color: #E8F0FE;\n",
              "    border: none;\n",
              "    border-radius: 50%;\n",
              "    cursor: pointer;\n",
              "    display: none;\n",
              "    fill: #1967D2;\n",
              "    height: 32px;\n",
              "    padding: 0 0 0 0;\n",
              "    width: 32px;\n",
              "  }\n",
              "\n",
              "  .colab-df-quickchart:hover {\n",
              "    background-color: #E2EBFA;\n",
              "    box-shadow: 0px 1px 2px rgba(60, 64, 67, 0.3), 0px 1px 3px 1px rgba(60, 64, 67, 0.15);\n",
              "    fill: #174EA6;\n",
              "  }\n",
              "\n",
              "  [theme=dark] .colab-df-quickchart {\n",
              "    background-color: #3B4455;\n",
              "    fill: #D2E3FC;\n",
              "  }\n",
              "\n",
              "  [theme=dark] .colab-df-quickchart:hover {\n",
              "    background-color: #434B5C;\n",
              "    box-shadow: 0px 1px 3px 1px rgba(0, 0, 0, 0.15);\n",
              "    filter: drop-shadow(0px 1px 2px rgba(0, 0, 0, 0.3));\n",
              "    fill: #FFFFFF;\n",
              "  }\n",
              "</style>\n",
              "\n",
              "    <script>\n",
              "      async function quickchart(key) {\n",
              "        const containerElement = document.querySelector('#' + key);\n",
              "        const charts = await google.colab.kernel.invokeFunction(\n",
              "            'suggestCharts', [key], {});\n",
              "      }\n",
              "    </script>\n",
              "\n",
              "      <script>\n",
              "\n",
              "function displayQuickchartButton(domScope) {\n",
              "  let quickchartButtonEl =\n",
              "    domScope.querySelector('#df-95e07baa-0540-4be7-9408-9bd4332ab1c9 button.colab-df-quickchart');\n",
              "  quickchartButtonEl.style.display =\n",
              "    google.colab.kernel.accessAllowed ? 'block' : 'none';\n",
              "}\n",
              "\n",
              "        displayQuickchartButton(document);\n",
              "      </script>\n",
              "      <style>\n",
              "    .colab-df-container {\n",
              "      display:flex;\n",
              "      flex-wrap:wrap;\n",
              "      gap: 12px;\n",
              "    }\n",
              "\n",
              "    .colab-df-convert {\n",
              "      background-color: #E8F0FE;\n",
              "      border: none;\n",
              "      border-radius: 50%;\n",
              "      cursor: pointer;\n",
              "      display: none;\n",
              "      fill: #1967D2;\n",
              "      height: 32px;\n",
              "      padding: 0 0 0 0;\n",
              "      width: 32px;\n",
              "    }\n",
              "\n",
              "    .colab-df-convert:hover {\n",
              "      background-color: #E2EBFA;\n",
              "      box-shadow: 0px 1px 2px rgba(60, 64, 67, 0.3), 0px 1px 3px 1px rgba(60, 64, 67, 0.15);\n",
              "      fill: #174EA6;\n",
              "    }\n",
              "\n",
              "    [theme=dark] .colab-df-convert {\n",
              "      background-color: #3B4455;\n",
              "      fill: #D2E3FC;\n",
              "    }\n",
              "\n",
              "    [theme=dark] .colab-df-convert:hover {\n",
              "      background-color: #434B5C;\n",
              "      box-shadow: 0px 1px 3px 1px rgba(0, 0, 0, 0.15);\n",
              "      filter: drop-shadow(0px 1px 2px rgba(0, 0, 0, 0.3));\n",
              "      fill: #FFFFFF;\n",
              "    }\n",
              "  </style>\n",
              "\n",
              "      <script>\n",
              "        const buttonEl =\n",
              "          document.querySelector('#df-0d6b30cf-ea90-40fc-a959-6f186182cb81 button.colab-df-convert');\n",
              "        buttonEl.style.display =\n",
              "          google.colab.kernel.accessAllowed ? 'block' : 'none';\n",
              "\n",
              "        async function convertToInteractive(key) {\n",
              "          const element = document.querySelector('#df-0d6b30cf-ea90-40fc-a959-6f186182cb81');\n",
              "          const dataTable =\n",
              "            await google.colab.kernel.invokeFunction('convertToInteractive',\n",
              "                                                     [key], {});\n",
              "          if (!dataTable) return;\n",
              "\n",
              "          const docLinkHtml = 'Like what you see? Visit the ' +\n",
              "            '<a target=\"_blank\" href=https://colab.research.google.com/notebooks/data_table.ipynb>data table notebook</a>'\n",
              "            + ' to learn more about interactive tables.';\n",
              "          element.innerHTML = '';\n",
              "          dataTable['output_type'] = 'display_data';\n",
              "          await google.colab.output.renderOutput(dataTable, element);\n",
              "          const docLink = document.createElement('div');\n",
              "          docLink.innerHTML = docLinkHtml;\n",
              "          element.appendChild(docLink);\n",
              "        }\n",
              "      </script>\n",
              "    </div>\n",
              "  </div>\n"
            ]
          },
          "metadata": {},
          "execution_count": 122
        }
      ]
    },
    {
      "cell_type": "code",
      "source": [
        "Interactions = set([(Tabla.loc[i, \"Official Symbol Interactor A\"], Tabla.loc[i, \"Official Symbol Interactor B\"]) for i in range(len(Tabla))])"
      ],
      "metadata": {
        "id": "3gBoTRS0NC7X"
      },
      "execution_count": 123,
      "outputs": []
    },
    {
      "cell_type": "code",
      "source": [
        "len(Interactions)"
      ],
      "metadata": {
        "colab": {
          "base_uri": "https://localhost:8080/"
        },
        "id": "Cm9BTmSGNQfB",
        "outputId": "d023f2b3-2c7a-49fc-8e2c-9b868e8daa61"
      },
      "execution_count": 124,
      "outputs": [
        {
          "output_type": "execute_result",
          "data": {
            "text/plain": [
              "3613"
            ]
          },
          "metadata": {},
          "execution_count": 124
        }
      ]
    },
    {
      "cell_type": "code",
      "source": [
        "my_list = [tuple(sorted(pair)) for pair in Interactions]\n",
        "\n",
        "# Convert the sorted list back to a set\n",
        "my_set = set(my_list)\n",
        "\n",
        "print(my_set)"
      ],
      "metadata": {
        "colab": {
          "base_uri": "https://localhost:8080/"
        },
        "id": "kB7UoYT_PsvG",
        "outputId": "d933c31a-4b98-4937-944e-884173d184c7"
      },
      "execution_count": 125,
      "outputs": [
        {
          "output_type": "stream",
          "name": "stdout",
          "text": [
            "{('PARK2', 'TAB1'), ('ACOX3', 'VCP'), ('PARK2', 'SEC24C'), ('IGHV3-15', 'PARK2'), ('PARK2', 'SPCS2'), ('MICU2', 'PARK2'), ('NPLOC4', 'SPRTN'), ('NKD2', 'RCHY1'), ('PARK2', 'PINK1'), ('PARK2', 'PLEC'), ('MOGS', 'PARK2'), ('CLIC1', 'PARK2'), ('PARK2', 'TMEM33'), ('PARK2', 'PRPF8'), ('RCHY1', 'TUBB6'), ('OPTN', 'PARK2'), ('PARK2', 'PSAT1'), ('AGAP1', 'PARK2'), ('HERC5', 'NPLOC4'), ('PCBP2', 'VCP'), ('GLUL', 'VCP'), ('IVD', 'PARK2'), ('PPP2R1A', 'RCHY1'), ('MAEA', 'UBE2D3'), ('HECTD1', 'UBE2D3'), ('INSIG2', 'VCP'), ('RCHY1', 'SNRPN'), ('FSCN1', 'PARK2'), ('INSIG1', 'VCP'), ('RCHY1', 'SRSF9'), ('PARK2', 'SCYL2'), ('PARK2', 'ZNF622'), ('ASCC1', 'TRIP4'), ('PRDX4', 'VCP'), ('FDPS', 'PARK2'), ('UBE2D3', 'UBE4B'), ('NEDD4L', 'UBE2D3'), ('ARMC5', 'VCP'), ('RCHY1', 'RPS6'), ('ACTA1', 'VCP'), ('DDI2', 'PARK2'), ('TRIM28', 'UBE2D3'), ('FZR1', 'PELO'), ('ACTR1A', 'PARK2'), ('PARK2', 'TUBB2A'), ('AXIN1', 'RCHY1'), ('CNOT4', 'UBE2D2'), ('GNB2L1', 'HDAC6'), ('TUBA4A', 'VCP'), ('HOXA3', 'RCHY1'), ('RNF43', 'UBE2D3'), ('UBXN1', 'UFD1L'), ('MTA2', 'PARK2'), ('CDK8', 'PARK2'), ('EDEM1', 'VCP'), ('RCHY1', 'SNRPB2'), ('API5', 'PARK2'), ('EIF2AK2', 'PARK2'), ('IFT74', 'NPLOC4'), ('RNF128', 'UBE2D3'), ('ACTN1', 'PARK2'), ('EXOSC7', 'HBS1L'), ('HSD17B10', 'PARK2'), ('PARK2', 'RPL5'), ('SIAH2', 'UBE2D3'), ('CFL1', 'PARK2'), ('GTF3C2', 'PARK2'), ('TMED10', 'VCP'), ('RPL13A', 'VCP'), ('PARK2', 'VCP'), ('DKC1', 'PARK2'), ('SLC25A5', 'VCP'), ('DOT1L', 'GNB2L1'), ('MCM3', 'VCP'), ('USP15', 'VCP'), ('CRYAB', 'PARK2'), ('HIST1H4A', 'RCHY1'), ('POLR2A', 'TRIP4'), ('GOLGA2', 'LRRK2'), ('DYNC1LI1', 'PARK2'), ('GNB2L1', 'JUN'), ('NEK6', 'TRIP4'), ('PARK2', 'PSMA4'), ('CDKN1A', 'PARK2'), ('PARK2', 'STK4'), ('RCHY1', 'SF3A3'), ('SYVN1', 'UBE2D3'), ('MRE11A', 'PARK2'), ('CDKN1A', 'MKRN1'), ('IDH3B', 'PARK2'), ('EED', 'PARK2'), ('NEDD4', 'UBE2D3'), ('PARK2', 'PDPR'), ('PARK2', 'TJP2'), ('CAMK2G', 'RCHY1'), ('LRRK2', 'SH3GL3'), ('DAPK3', 'UBE2D3'), ('GNL1', 'PARK2'), ('CNOT4', 'RQCD1'), ('COPS5', 'VCP'), ('NAMPT', 'VCP'), ('VBP1', 'VCP'), ('DNAJC21', 'PARK2'), ('PARK2', 'RBM39'), ('MDM2', 'UBE2D3'), ('DDX11L8', 'PARK2'), ('MKRN2', 'TRIP4'), ('PAIP1', 'PARK2'), ('PARK2', 'SLC25A1'), ('PARK2', 'PDLIM5'), ('RPS13', 'VCP'), ('8-Mar', 'UBE2D3'), ('OS9', 'VCP'), ('DAPK1', 'LRRK2'), ('EDC4', 'PARK2'), ('PARK2', 'PSMD11'), ('HLA-A', 'VCP'), ('LTN1', 'ZRANB1'), ('BCL2L11', 'GNB2L1'), ('PARK2', 'ST13'), ('RPL6', 'VCP'), ('PTPN22', 'VCP'), ('THRB', 'TRIP4'), ('GNB2L1', 'HECTD1'), ('DLST', 'PARK2'), ('CS', 'VCP'), ('LRRK2', 'SH3GL1'), ('LUC7L2', 'PARK2'), ('MEPCE', 'PARK2'), ('PARK2', 'RNF41'), ('ME1', 'VCP'), ('DISC1', 'PARK2'), ('CUL4B', 'PARK2'), ('ATP6V1H', 'PARK2'), ('SFPQ', 'VCP'), ('PARK2', 'UBR4'), ('UBE2D3', 'ZNF598'), ('PARK2', 'RAB35'), ('HNF1A', 'VCP'), ('DPYSL2', 'VCP'), ('ATAD3B', 'PARK2'), ('NOC2L', 'RCHY1'), ('EFTUD2', 'RCHY1'), ('PARK2', 'RAB21'), ('PCNA', 'VCP'), ('HNRNPD', 'PARK2'), ('MCM7', 'PARK2'), ('NPEPPS', 'PARK2'), ('PARK2', 'SUDS3'), ('FUBP1', 'PARK2'), ('PARK2', 'RPS6'), ('TRIM31', 'UBE2D3'), ('CPSF6', 'PARK2'), ('NUP214', 'PARK2'), ('PPP1R15B', 'VCP'), ('TRAF6', 'UBE2D3'), ('HSPA9', 'PARK2'), ('RCHY1', 'ZNF326'), ('LRRK2', 'MFN2'), ('GPR37', 'PARK2'), ('CES1', 'VCP'), ('PARK2', 'PREP'), ('ALDH1B1', 'PARK2'), ('HIST1H1T', 'PARK2'), ('ACSS2', 'PARK2'), ('DHX30', 'PARK2'), ('HUWE1', 'UBE2D3'), ('PARK2', 'WARS'), ('GNB2L1', 'PARK2'), ('CAPN1', 'PARK2'), ('PARK2', 'SLC25A3'), ('PARK2', 'RAD17'), ('DNM1L', 'LRRK2'), ('ASCC3', 'TDRD3'), ('IDH1', 'PARK2'), ('FXR1', 'PARK2'), ('CNBP', 'VCP'), ('PARK2', 'SMC1A'), ('PARK2', 'WDR1'), ('GNB2L1', 'PTOV1'), ('LRRC40', 'PARK2'), ('RBM14', 'RCHY1'), ('AMFR', 'NPLOC4'), ('GNA11', 'PARK2'), ('FZR1', 'UBE2D3'), ('NPM1', 'RCHY1'), ('DHX38', 'PARK2'), ('PTCRA', 'VCP'), ('ALDH5A1', 'PARK2'), ('NUP107', 'RCHY1'), ('DNAJA2', 'VCP'), ('CUL1', 'PARK2'), ('EFHD2', 'VCP'), ('PARK2', 'RPL28'), ('PRPF8', 'RCHY1'), ('CDK11A', 'PARK2'), ('HTT', 'VCP'), ('FADD', 'MKRN1'), ('ELAVL1', 'RCHY1'), ('CREBBP', 'TRIP4'), ('KLHL3', 'UBE2D3'), ('NEMF', 'ZRANB1'), ('PARK2', 'RPTOR'), ('PARK2', 'QSOX2'), ('DVL3', 'LRRK2'), ('CHMP2A', 'UFD1L'), ('HSPA1A', 'LRRK2'), ('C1QBP', 'VCP'), ('ATIC', 'PARK2'), ('CPNE1', 'PARK2'), ('PARK2', 'VCL'), ('GNB2L1', 'MEN1'), ('EIF3C', 'PARK2'), ('LMNA', 'PARK2'), ('PARK2', 'UBE2G1'), ('ADH5', 'VCP'), ('TRIM68', 'UBE2D3'), ('MATR3', 'RCHY1'), ('LTN1', 'SSR1'), ('PACRG', 'PARK2'), ('LRRK2', 'SH3GL2'), ('DNAJB9', 'VCP'), ('MAT2A', 'PARK2'), ('CUL2', 'PARK2'), ('ALG2', 'PARK2'), ('DOCK7', 'PARK2'), ('NUP88', 'PARK2'), ('PARK2', 'RFC5'), ('IGF2R', 'PARK2'), ('7-Mar', 'UBE2D3'), ('PARK2', 'POLD2'), ('PGRMC1', 'RCHY1'), ('PARK2', 'ZKSCAN8'), ('CRMP1', 'LRRK2'), ('BIRC3', 'UBE2D3'), ('RNF111', 'UBE2D3'), ('MYO1F', 'PARK2'), ('PARK2', 'TELO2'), ('LTN1', 'RNF11'), ('ISG15', 'VCP'), ('ATP6V1A', 'PARK2'), ('MAEA', 'PARK2'), ('RCHY1', 'SF3B1'), ('KRT81', 'VCP'), ('GARS', 'PARK2'), ('PARK2', 'PPOX'), ('ATG14', 'GNB2L1'), ('PARK2', 'RPS15A'), ('PARK2', 'SERPINC1'), ('RCHY1', 'RUVBL1'), ('BCAP31', 'VCP'), ('HBD', 'PARK2'), ('NEDD4L', 'PARK2'), ('HNRNPA0', 'RCHY1'), ('PSMA1', 'VCP'), ('PARK2', 'PTTG1'), ('DLG4', 'PARK2'), ('HNRNPAB', 'PARK2'), ('CCT2', 'PARK2'), ('CCAR1', 'PARK2'), ('FZR1', 'TCF25'), ('TP53BP1', 'VCP'), ('NQO1', 'VCP'), ('RPL27A', 'VCP'), ('DTYMK', 'PARK2'), ('PARK2', 'RPA1'), ('MOCOS', 'PARK2'), ('ERP29', 'VCP'), ('PARK2', 'UBA2'), ('PRNP', 'PTRH1'), ('KRT8', 'VCP'), ('KIFC1', 'PARK2'), ('PCGF6', 'UBE2D3'), ('CTR9', 'PARK2'), ('LRRK2', 'MAP2K4'), ('OTULIN', 'VCP'), ('LRRK2', 'RAC1'), ('FGF11', 'VCP'), ('FBXW8', 'UBE2D3'), ('IMMT', 'PARK2'), ('PEX19', 'VCP'), ('LTN1', 'TIRAP'), ('LRRK2', 'SQSTM1'), ('COPE', 'RCHY1'), ('PARK2', 'SNRNP40'), ('RPS3A', 'VCP'), ('PARK2', 'PSMD1'), ('HMGCS1', 'PARK2'), ('ACAD11', 'PARK2'), ('PARK2', 'PRPS1'), ('PARK2', 'TUBGCP3'), ('AUP1', 'VCP'), ('DVL2', 'LRRK2'), ('PARK2', 'UBE2K'), ('PARK2', 'SNTB2'), ('HNRNPH2', 'PARK2'), ('EXOSC6', 'HBS1L'), ('TMEM129', 'UBE2D3'), ('PARK2', 'SPTAN1'), ('PARK2', 'SAMM50'), ('KPNA5', 'PARK2'), ('EMD', 'RCHY1'), ('ASCC3', 'MB21D1'), ('PARK2', 'ZBTB39'), ('RTN4', 'VCP'), ('NUP98', 'PARK2'), ('PARK2', 'SYNCRIP'), ('AHCY', 'PARK2'), ('PARK2', 'TOLLIP'), ('PARK2', 'VRK1'), ('EXOSC5', 'HBS1L'), ('DDIT4', 'PARK2'), ('CAP1', 'PARK2'), ('KAT5', 'RCHY1'), ('PTRH1', 'ZRANB1'), ('BIK', 'VCP'), ('DAPK3', 'PARK2'), ('RCHY1', 'RCN1'), ('PARK2', 'THOC5'), ('RPL10', 'VCP'), ('LLGL1', 'PARK2'), ('EIF3F', 'PARK2'), ('GLB1', 'PARK2'), ('GNB2', 'PARK2'), ('BTRC', 'VCP'), ('CLTC', 'PARK2'), ('PARK2', 'PRIM1'), ('MCM2', 'PARK2'), ('MDM2', 'PARK2'), ('HADHB', 'PARK2'), ('EP300', 'TRIP4'), ('PARK2', 'STAT3'), ('TRIM37', 'UBE2D3'), ('AKAP8', 'LRRK2'), ('IFIH1', 'PARK2'), ('PCGF3', 'UBE2D3'), ('ACTR2', 'VCP'), ('ARIH1', 'UBE2D3'), ('PARK2', 'TSEN2'), ('GNB2L1', 'SOX2'), ('PARK2', 'UBE2E2'), ('PARK2', 'POGZ'), ('UBE2D3', 'UBE2S'), ('PARK2', 'PUS7'), ('IGKC', 'PARK2'), ('GNB2L1', 'U2AF2'), ('PSMA5', 'VCP'), ('PPARG', 'TRIP4'), ('KPNB1', 'PARK2'), ('ABL1', 'PARK2'), ('UBAC2', 'VCP'), ('NUP93', 'PARK2'), ('UBE2D3', 'ZNRF2'), ('PTPN3', 'VCP'), ('CAPG', 'VCP'), ('NF1', 'VCP'), ('PARK2', 'POLR3B'), ('PARK2', 'PFKM'), ('CSTF3', 'PARK2'), ('PARK2', 'WDR36'), ('UBXN2B', 'VCP'), ('LDHA', 'VCP'), ('RXRA', 'VCP'), ('CARS', 'PARK2'), ('PAPD7', 'PARK2'), ('CHEK2', 'PARK2'), ('KRT5', 'VCP'), ('CARS2', 'PARK2'), ('EIF4G1', 'PARK2'), ('GFM1', 'PARK2'), ('LRRK2', 'SCFD1'), ('PARK2', 'PRKDC'), ('PARK2', 'UAP1L1'), ('ATXN7', 'VCP'), ('GNB2L1', 'INSR'), ('CALB2', 'VCP'), ('GNB2L1', 'TP73'), ('TRIM63', 'UBE2D3'), ('ATP2A2', 'VCP'), ('PARP1', 'RCHY1'), ('PARK2', 'YME1L1'), ('GNB2L1', 'MAP3K7'), ('ATL3', 'VCP'), ('NPLOC4', 'VCP'), ('LRRK2', 'MYO1D'), ('PARK2', 'SENP3'), ('KRT20', 'VCP'), ('PARK2', 'UBE2D1'), ('FZR1', 'GNB2L1'), ('LARS', 'PARK2'), ('GNB2L1', 'PRKAR2A'), ('RAD18', 'RCHY1'), ('CLIC1', 'VCP'), ('EMC1', 'PARK2'), ('RCHY1', 'RPS17'), ('PARK2', 'SCD'), ('GPSM1', 'PARK2'), ('COASY', 'PARK2'), ('9-Sep', 'VCP'), ('NARS', 'PARK2'), ('RNF43', 'UFD1L'), ('RCHY1', 'RPL7'), ('HGF', 'PARK2'), ('NPLOC4', 'VIMP'), ('PARK2', 'TUBB2B'), ('CTCF', 'PARK2'), ('CDC16', 'RCHY1'), ('GTPBP2', 'PARK2'), ('MRPS7', 'RCHY1'), ('PSAT1', 'VCP'), ('METTL17', 'PARK2'), ('CNOT4', 'ZC3H7A'), ('PARK2', 'PDCD6IP'), ('FLOT1', 'PARK2'), ('CBR1', 'PARK2'), ('RPL8', 'VCP'), ('PARK2', 'TUBA1A'), ('PAFAH1B1', 'PARK2'), ('ARF4', 'VCP'), ('PARK2', 'UBE2J2'), ('KIAA0020', 'PARK2'), ('PPP6C', 'RCHY1'), ('HNRNPA1', 'VCP'), ('FZR1', 'PARK2'), ('PARK2', 'SKIV2L2'), ('PARK2', 'YWHAH'), ('EIF4A1', 'PARK2'), ('NEDD8', 'PARK2'), ('STUB1', 'VCP'), ('DDX5', 'PARK2'), ('UBXN2A', 'VCP'), ('PARK2', 'PPP1R7'), ('PARK2', 'RBM22'), ('RCHY1', 'RPL23A'), ('PARK2', 'TRIM27'), ('CDC37', 'LRRK2'), ('EIF3I', 'VCP'), ('SQSTM1', 'VCP'), ('PRDX2', 'VCP'), ('PCGF1', 'UBE2D3'), ('RANBP2', 'RCHY1'), ('GNB2L1', 'IL2RB'), ('FUS', 'RCHY1'), ('CNOT4', 'EIF4ENIF1'), ('PARK2', 'SLC33A1'), ('DARS', 'PARK2'), ('GBF1', 'PARK2'), ('PARK2', 'PWP1'), ('TUBB3', 'VCP'), ('CCBL2', 'PARK2'), ('ASCC2', 'TRIP4'), ('PARK2', 'TPT1'), ('RNF185', 'UBE2D3'), ('TRIM26', 'UBE2D3'), ('PARK2', 'TRIP13'), ('PARK2', 'PGAM5'), ('MTOR', 'PARK2'), ('RCHY1', 'RPL12'), ('RNF130', 'UBE2D3'), ('USP9X', 'ZNF598'), ('PSMC1', 'VCP'), ('RAD21', 'RCHY1'), ('PARK2', 'PLAA'), ('COPZ1', 'PARK2'), ('PARK2', 'SMPD4'), ('ADSS', 'VCP'), ('RCHY1', 'UBE2D3'), ('PARK2', 'PFAS'), ('ELAVL4', 'VCP'), ('BAX', 'LRRK2'), ('NEK2', 'PARK2'), ('NFKB1', 'TRIP4'), ('DHCR7', 'PARK2'), ('CDC123', 'PARK2'), ('CTBP2', 'PARK2'), ('ADH1B', 'VCP'), ('FAF2', 'VCP'), ('PARK2', 'RECQL'), ('AIG1', 'RCHY1'), ('PARK2', 'PTPLAD1'), ('PARK2', 'PPME1'), ('ASNS', 'PARK2'), ('PARK2', 'RIOK2'), ('TTC26', 'VCP'), ('RCHY1', 'TP53'), ('BCL2', 'PARK2'), ('ILF3', 'RCHY1'), ('NUFIP2', 'ZNF598'), ('CAPZB', 'PARK2'), ('CCND1', 'PARK2'), ('PARK2', 'SHMT2'), ('GNB2L1', 'RASA3'), ('ACAT1', 'PARK2'), ('ARF3', 'PARK2'), ('IPO5', 'PARK2'), ('CBS', 'PARK2'), ('ANXA1', 'PARK2'), ('PRPF40A', 'RCHY1'), ('DNAJC2', 'PARK2'), ('HARS2', 'PARK2'), ('SERPINA1', 'VCP'), ('BCCIP', 'PARK2'), ('CSK', 'PARK2'), ('PARK2', 'SRSF6'), ('PARK2', 'PRKAG1'), ('PSMB6', 'VCP'), ('PARK2', 'RAC3'), ('TRIM21', 'VCP'), ('EIF3L', 'PARK2'), ('ACADSB', 'PARK2'), ('PARK2', 'POFUT1'), ('ARHGEF2', 'PARK2'), ('VAPA', 'VCP'), ('FAM98A', 'PARK2'), ('CMAS', 'PARK2'), ('LAMP1', 'VCP'), ('ACLY', 'VCP'), ('RNF8', 'UBE2D3'), ('PARK2', 'TBL3'), ('EDEM1', 'NPLOC4'), ('PARK2', 'RPS11'), ('HTATSF1', 'RCHY1'), ('GNB2L1', 'TYK2'), ('UBQLN1', 'VCP'), ('COMMD1', 'PARK2'), ('EIF3A', 'PARK2'), ('CNOT1', 'CNOT4'), ('PARK2', 'YTHDF2'), ('UBE2D3', 'USP7'), ('GTF2I', 'RCHY1'), ('PARK2', 'ZC3HAV1'), ('PARK2', 'SMARCAL1'), ('NCOA5', 'PARK2'), ('RFFL', 'VCP'), ('IRAK1', 'PARK2'), ('MED12', 'TRIP4'), ('PARK2', 'PUF60'), ('PRDX1', 'VCP'), ('RBMX', 'RCHY1'), ('APP', 'VCP'), ('GFM2', 'PARK2'), ('FDFT1', 'PARK2'), ('GNB2L1', 'PRKCA'), ('PARK2', 'PPWD1'), ('MAPK1', 'PARK2'), ('HNRNPK', 'RCHY1'), ('KLC3', 'PARK2'), ('GPS1', 'PARK2'), ('RCHY1', 'RPS12'), ('LRRK2', 'YWHAB'), ('LRP1', 'PARK2'), ('GOT2', 'PARK2'), ('RCHY1', 'RPL9'), ('PARK2', 'PLG'), ('GMDS', 'PARK2'), ('RCHY1', 'SMARCA5'), ('ACTR3', 'PARK2'), ('IDH1', 'VCP'), ('RCHY1', 'RPL37A'), ('FXR1', 'VCP'), ('PARK2', 'TROVE2'), ('RCHY1', 'RPL10'), ('FTSJ3', 'PARK2'), ('PARK2', 'RSL1D1'), ('ARIH2', 'PARK2'), ('ACTRT1', 'PARK2'), ('IKBKAP', 'PARK2'), ('ME2', 'PARK2'), ('PARK2', 'PIGS'), ('DLAT', 'PARK2'), ('LRPPRC', 'PARK2'), ('PARK2', 'RPL24'), ('ATXN10', 'PARK2'), ('PARK2', 'UBE2N'), ('PARK2', 'RPL12'), ('NT5DC2', 'RCHY1'), ('DYRK1A', 'PARK2'), ('PARK2', 'UGT8'), ('RCHY1', 'YWHAE'), ('ARIH1', 'PARK2'), ('HPRT1', 'PARK2'), ('PARK2', 'SLC11A2'), ('SERPINB1', 'VCP'), ('CDK5', 'PARK2'), ('CAPN9', 'PARK2'), ('ATXN2', 'PARK2'), ('RCHY1', 'RPS19'), ('GNB2L1', 'MAP2K6'), ('HBS1L', 'SIRT6'), ('ARHGEF7', 'LRRK2'), ('PTCD3', 'RCHY1'), ('CLUAP1', 'VCP'), ('GRIN1', 'PARK2'), ('PARK2', 'TRAF3'), ('RCHY1', 'SART3'), ('MARS', 'PARK2'), ('VCP', 'WIPI2'), ('RNF34', 'UBE2D3'), ('HNRNPU', 'PARK2'), ('ACSL3', 'PARK2'), ('HSPA14', 'PARK2'), ('PARK2', 'RPS3A'), ('ABHD12', 'PARK2'), ('ABCF3', 'PARK2'), ('AKR1C1', 'VCP'), ('FKBP4', 'VCP'), ('DDX18', 'PARK2'), ('ERCC8', 'VCP'), ('ATP2A2', 'LRRK2'), ('RBCK1', 'UBE2D3'), ('LRRK2', 'MAP2K7'), ('CUL2', 'VCP'), ('RCHY1', 'RPS21'), ('GYS1', 'PARK2'), ('SUCLG2', 'VCP'), ('LAP3', 'PARK2'), ('NFKBIA', 'UBE2D3'), ('PARK2', 'SMARCA2'), ('RNF167', 'UBE2D3'), ('ASUN', 'PARK2'), ('EDF1', 'JUN'), ('PARK2', 'UTY'), ('PARK2', 'SLC25A22'), ('GNB2L1', 'TP63'), ('EYA3', 'PARK2'), ('TRIM45', 'UBE2D3'), ('RCHY1', 'RPL7A'), ('HNRNPLL', 'PARK2'), ('HOMER1', 'PARK2'), ('LRRK2', 'RIPK2'), ('ATXN3', 'UBE2D3'), ('ALDH1A1', 'VCP'), ('GNB2L1', 'HIST1H3A'), ('IDH2', 'PARK2'), ('SRRM2', 'VCP'), ('PARK2', 'PES1'), ('PARK2', 'PRKAR1A'), ('PARK2', 'PDK3'), ('LDB1', 'PARK2'), ('CUL4A', 'VCP'), ('PARK2', 'VEZF1'), ('GARS', 'VCP'), ('HECTD3', 'UBE2D3'), ('PARK2', 'TSR1'), ('CNOT4', 'RNF113A'), ('PARK2', 'SLC25A10'), ('PARK2', 'SORD'), ('LRRK2', 'VIM'), ('METAP2', 'PARK2'), ('CD2AP', 'PARK2'), ('EXOSC10', 'PARK2'), ('BARD1', 'UBE2D3'), ('PARK2', 'USP15'), ('PARK2', 'TM9SF3'), ('PARK2', 'PSMC2'), ('PARK2', 'PPP5C'), ('RCHY1', 'SF3A1'), ('TRIM28', 'VCP'), ('RNFT1', 'UBE2D3'), ('HIST2H2BF', 'VCP'), ('PARK2', 'PRIM2'), ('MYBBP1A', 'PARK2'), ('PARK2', 'UFSP2'), ('ACTC1', 'PARK2'), ('HLA-DRB1', 'VCP'), ('HOXC4', 'RCHY1'), ('HM13', 'VCP'), ('PARK2', 'SCRIB'), ('PARK2', 'RAD9A'), ('IFT74', 'VCP'), ('PARK2', 'QARS'), ('LONP2', 'PARK2'), ('AKTIP', 'VCP'), ('PARK2', 'TRAP1'), ('FAM129B', 'VCP'), ('PARK2', 'UCHL1'), ('PARK2', 'PKN2'), ('GNB2L1', 'RAB40B'), ('LAS1L', 'RCHY1'), ('PPP6R1', 'RCHY1'), ('PARK2', 'PRMT1'), ('RNH1', 'VCP'), ('HK2', 'PARK2'), ('EIF4A3', 'PARK2'), ('PARK2', 'UBA3'), ('NDUFS2', 'PARK2'), ('PARK2', 'VDAC1'), ('DDX6', 'PARK2'), ('SLC25A6', 'VCP'), ('LUC7L3', 'PARK2'), ('MAP3K7', 'PARK2'), ('PARK2', 'PTPN5'), ('PARK2', 'SART3'), ('BMS1', 'PARK2'), ('PARK2', 'RSPRY1'), ('RHBDD1', 'VCP'), ('TPM2', 'VCP'), ('CAP1', 'VCP'), ('PARK2', 'PLD2'), ('PARK2', 'POLA2'), ('RCHY1', 'RPL36'), ('CSNK2A1', 'UBE2D3'), ('EIF2S2', 'PARK2'), ('HNRNPR', 'RCHY1'), ('CBLC', 'UBE2D3'), ('HERC2', 'UBE2D3'), ('EEF1A1', 'VCP'), ('KIF11', 'PARK2'), ('PARK2', 'RPS14'), ('VCP', 'YOD1'), ('MDM2', 'VCP'), ('EIF3J', 'VCP'), ('PARK2', 'TUFM'), ('ATP6V1B2', 'PARK2'), ('NKRF', 'PARK2'), ('HAT1', 'PARK2'), ('LZIC', 'VCP'), ('PARK2', 'WDR4'), ('NDUFS1', 'PARK2'), ('DDX17', 'RCHY1'), ('GCLC', 'PARK2'), ('PARK2', 'SPTLC2'), ('DCAF8', 'PARK2'), ('ERCC6', 'VCP'), ('PARK2', 'ZNF561'), ('MARCKSL1', 'VCP'), ('VCP', 'YARS'), ('TGFBR2', 'VCP'), ('INPP5B', 'PARK2'), ('UBE2D3', 'UHRF2'), ('NCKAP1', 'PARK2'), ('HNRNPA2B1', 'VCP'), ('VCP', 'WAC'), ('CD4', 'VCP'), ('PPAP2B', 'VCP'), ('PARK2', 'UBE2L6'), ('LRP6', 'LRRK2'), ('EIF4G1', 'VCP'), ('DHX8', 'PARK2'), ('OCRL', 'PARK2'), ('PARK2', 'PPP2R2D'), ('MKRN1', 'TERT'), ('AIFM1', 'PARK2'), ('CCT5', 'PARK2'), ('PTBP1', 'VCP'), ('LRRK2', 'PSMD11'), ('LRRK2', 'MAP2K3'), ('PARK2', 'PCBP2'), ('NDRG1', 'PARK2'), ('5-Mar', 'UBE2D3'), ('PARK2', 'YARS'), ('CSE1L', 'PARK2'), ('SPRTN', 'VCP'), ('UBE2D3', 'UBE4A'), ('PARK2', 'PRDX4'), ('LASP1', 'VCP'), ('GNB2L1', 'MID1'), ('KLC2', 'PARK2'), ('ADSL', 'PARK2'), ('GNB2L1', 'ST7'), ('HNRNPH1', 'RCHY1'), ('APP', 'LRRK2'), ('HOXD10', 'RCHY1'), ('CAPRIN1', 'VCP'), ('VCP', 'VCPIP1'), ('DNM2', 'PARK2'), ('KIFAP3', 'PARK2'), ('GNB2L1', 'IL7R'), ('APC', 'MKRN1'), ('PRPF19', 'UBE2D3'), ('RCHY1', 'SNRPD2'), ('PARK2', 'RMDN3'), ('UBE2D3', 'UBE2D3'), ('EIF2B3', 'PARK2'), ('ETFA', 'VCP'), ('CBR1', 'VCP'), ('APMAP', 'PARK2'), ('CNOT2', 'CNOT4'), ('IARS', 'PARK2'), ('EIF2B5', 'PARK2'), ('EIF5B', 'PARK2'), ('GNB2L1', 'HIF1A'), ('FZR1', 'TRIP4'), ('AR', 'VCP'), ('PALLD', 'VCP'), ('ANKZF1', 'VCP'), ('GAN', 'GNB2L1'), ('GNB2L1', 'PPP2R1A'), ('SIAH1', 'UBE2D3'), ('NPLOC4', 'UBXN8'), ('PARK2', 'PRMT3'), ('CUL3', 'PARK2'), ('BAG5', 'VCP'), ('FIG4', 'PARK2'), ('EPRS', 'LRRK2'), ('CD55', 'PARK2'), ('BRSK2', 'VCP'), ('KRT8', 'RCHY1'), ('COPS5', 'GNB2L1'), ('SLC5A5', 'VCP'), ('GNB2L1', 'PIK3C3'), ('MED27', 'TRIP4'), ('TFRC', 'VCP'), ('PARK2', 'RPL36'), ('DAP3', 'RCHY1'), ('STAU1', 'TRIP4'), ('GSK3A', 'PARK2'), ('TRIM25', 'UBE2D3'), ('EZR', 'VCP'), ('ATP6V0D1', 'PARK2'), ('CKAP5', 'PARK2'), ('DXO', 'NPLOC4'), ('PARK2', 'PFKL'), ('PARK2', 'TRIM32'), ('PARK2', 'RPL17'), ('FAM20B', 'PARK2'), ('IFIT5', 'PARK2'), ('HADHA', 'VCP'), ('USP14', 'VCP'), ('CBL', 'UBE2D3'), ('FLNB', 'PARK2'), ('FBXW2', 'GNB2L1'), ('EXT2', 'PARK2'), ('GTPBP4', 'PARK2'), ('ANXA3', 'PARK2'), ('TOMM34', 'VCP'), ('NRBP1', 'PARK2'), ('PARK2', 'RPH3A'), ('PARK2', 'RIPK1'), ('GRWD1', 'PARK2'), ('TRIM13', 'VCP'), ('PARK2', 'RRP1B'), ('MCM4', 'PARK2'), ('FBXO22', 'PARK2'), ('LRRK2', 'TUBA1C'), ('PARK2', 'PLCG1'), ('CEBPZ', 'PARK2'), ('PARK2', 'SCRN1'), ('HNRNPM', 'RCHY1'), ('PARK2', 'VDAC2'), ('CLINT1', 'PARK2'), ('TCF25', 'XIAP'), ('MB21D1', 'PARK2'), ('PARK2', 'VPS51'), ('ATXN3', 'PARK2'), ('NUDC', 'VCP'), ('PARK2', 'SNCAIP'), ('CEP55', 'PARK2'), ('RAB7A', 'VCP'), ('SLC3A2', 'VCP'), ('RBM25', 'RCHY1'), ('NPLOC4', 'ZFAND2B'), ('RCHY1', 'SHCBP1'), ('RPL3', 'VCP'), ('F12', 'UBE2D3'), ('CIRH1A', 'PARK2'), ('EIF2S3', 'VCP'), ('LRRK2', 'PAK6'), ('PARK2', 'TMPO'), ('IPO5', 'VCP'), ('PARK2', 'SF3B2'), ('PARK2', 'RFC3'), ('MDM4', 'UBE2D3'), ('RCHY1', 'RPL11'), ('CNOT4', 'MEX3B'), ('GOT1', 'PARK2'), ('APOB', 'PARK2'), ('FBXW7', 'GNB2L1'), ('FERMT2', 'PARK2'), ('CCT3', 'VCP'), ('RCHY1', 'SSRP1'), ('RCHY1', 'U2AF2'), ('CAND1', 'PARK2'), ('HBS1L', 'HTT'), ('GNB2L1', 'TARDBP'), ('MLLT4', 'PARK2'), ('NCL', 'PARK2'), ('BTF3', 'VCP'), ('ATP2A2', 'RCHY1'), ('UQCRC1', 'VCP'), ('PARK2', 'PPP2CB'), ('ITCH', 'RCHY1'), ('KDM4B', 'PARK2'), ('PARK7', 'VCP'), ('SERPINH1', 'VCP'), ('DCAF11', 'PARK2'), ('PARK2', 'THOC2'), ('NLRP3', 'PARK2'), ('MRPS2', 'PARK2'), ('PARK2', 'SRP54'), ('H2AFV', 'PARK2'), ('PARK2', 'USP47'), ('RCHY1', 'TP73'), ('PARK2', 'USP39'), ('KARS', 'PARK2'), ('SCAMP3', 'VCP'), ('DCUN1D1', 'UBE2D3'), ('NAA15', 'PARK2'), ('ATP5A1', 'PARK2'), ('PARK2', 'UBE2V1'), ('DDX3X', 'ZNF598'), ('PARK2', 'RPL8'), ('PARK2', 'RBBP5'), ('RCHY1', 'SLC25A5'), ('RNF181', 'UBE2D3'), ('LARP1', 'PARK2'), ('PARK2', 'RANBP2'), ('MFN2', 'VCP'), ('EP300', 'HBS1L'), ('PARK2', 'UBE2C'), ('GFPT2', 'PARK2'), ('MAPK1', 'VCP'), ('LRRC47', 'PARK2'), ('PARK2', 'RPL18A'), ('PARK2', 'TBRG4'), ('DIS3', 'PARK2'), ('PARK2', 'VARS'), ('GNB2L1', 'JAK1'), ('OAS3', 'PARK2'), ('FYN', 'GNB2L1'), ('DDX58', 'ZNF598'), ('TMEM129', 'VCP'), ('CCT6A', 'PARK2'), ('ARF4', 'RCHY1'), ('HNRNPL', 'RCHY1'), ('TLE3', 'VCP'), ('AGO1', 'LRRK2'), ('AKR1C2', 'VCP'), ('HNRNPA1', 'RCHY1'), ('ANP32B', 'VCP'), ('H6PD', 'PARK2'), ('NLE1', 'PARK2'), ('BRIX1', 'PARK2'), ('KHDRBS1', 'RCHY1'), ('LTN1', 'UBE2D1'), ('PARK2', 'RTCB'), ('CSNK2A1', 'PARK2'), ('EEF1A1', 'LRRK2'), ('NSDHL', 'PARK2'), ('RCHY1', 'RUVBL2'), ('CNOT4', 'TNRC6A'), ('EPS8L2', 'PARK2'), ('PARK2', 'TALDO1'), ('PARK2', 'STT3B'), ('HDAC6', 'UBE2D3'), ('PGK1', 'VCP'), ('CLPB', 'PARK2'), ('EP300', 'NEMF'), ('PARK2', 'STAU2'), ('RCHY1', 'RPS16'), ('ESRRB', 'PARK2'), ('HSPA4L', 'PARK2'), ('HBS1L', 'TULP3'), ('NFKBIA', 'UFD1L'), ('EPB41L5', 'PARK2'), ('ASCC3', 'PABPC1'), ('OXSR1', 'PARK2'), ('RCHY1', 'SSR4'), ('CTNND1', 'VCP'), ('LRRK2', 'SNCA'), ('PARK2', 'SERPINA1'), ('7-Sep', 'PARK2'), ('CCT4', 'VCP'), ('BCL2L1', 'PARK2'), ('GRN', 'VCP'), ('CORO1C', 'PARK2'), ('RAC1', 'VCP'), ('LIG3', 'PARK2'), ('PARK2', 'ZNF746'), ('PARK2', 'TTC38'), ('ASCC3', 'TRIM56'), ('AGK', 'PARK2'), ('DPYSL3', 'PARK2'), ('PARK2', 'SYT11'), ('F13A1', 'PARK2'), ('MTHFD1', 'PARK2'), ('DEK', 'VCP'), ('PARK2', 'PDK1'), ('PARK2', 'TNPO1'), ('PARK2', 'YTHDC2'), ('BYSL', 'PARK2'), ('PARK2', 'PARP1'), ('KHSRP', 'VCP'), ('BAG1', 'VCP'), ('RCHY1', 'STAG2'), ('PAICS', 'PARK2'), ('GDI1', 'PARK2'), ('DDOST', 'PARK2'), ('ATP1A1', 'VCP'), ('DHX33', 'PARK2'), ('PARK2', 'UTP15'), ('CLPX', 'PARK2'), ('DRG2', 'PARK2'), ('ARRB2', 'PARK2'), ('IGF2BP2', 'PARK2'), ('GNB2L1', 'TRIM67'), ('DYRK1B', 'PARK2'), ('CNP', 'PARK2'), ('GNB2L1', 'TRAF6'), ('PARK2', 'TRMT5'), ('PARK2', 'SKP2'), ('ILK', 'PARK2'), ('DDX10', 'PARK2'), ('PARK2', 'POLR1C'), ('RCHY1', 'RPL10A'), ('MORC2', 'PARK2'), ('CAD', 'PARK2'), ('PARK2', 'SYVN1'), ('PARK2', 'PRMT5'), ('G6PD', 'VCP'), ('TRIM5', 'UBE2D3'), ('MTA3', 'PARK2'), ('FAM120A', 'PARK2'), ('BAG5', 'LRRK2'), ('FN1', 'VCP'), ('TRIM33', 'UBE2D3'), ('PARK2', 'SUMO1'), ('ENO1', 'PARK2'), ('NPLOC4', 'UBXN10'), ('ALB', 'PARK2'), ('RCHY1', 'RPL27A'), ('P4HA1', 'PARK2'), ('EP300', 'PARK2'), ('PARK2', 'REL'), ('RCHY1', 'XRN2'), ('PARK2', 'TFRC'), ('ALDH2', 'PARK2'), ('LRRK2', 'TUBA1A'), ('CDKAL1', 'PARK2'), ('CCDC47', 'PARK2'), ('UBC', 'UBE2D3'), ('PARK2', 'RUVBL2'), ('EGFR', 'LTN1'), ('MAK16', 'PARK2'), ('APP', 'RCHY1'), ('PARK2', 'UBC'), ('PARK2', 'REPIN1'), ('MKRN1', 'TP53'), ('BZW2', 'PARK2'), ('FCHSD2', 'VCP'), ('LRRK2', 'YWHAH'), ('GRHPR', 'PARK2'), ('CBL', 'PARK2'), ('DERL2', 'VCP'), ('ATP5B', 'VCP'), ('RCHY1', 'RPS23'), ('DNAJB6', 'LRRK2'), ('RPL19', 'VCP'), ('MTRR', 'PARK2'), ('FECH', 'PARK2'), ('PARK2', 'PIGT'), ('PIK3CA', 'UFD1L'), ('NOLC1', 'RCHY1'), ('PARK2', 'RRAGC'), ('NT5C2', 'PARK2'), ('ESR1', 'ZNF598'), ('RCHY1', 'SUPT16H'), ('RNF31', 'UBE2D3'), ('RNF122', 'UBE2D3'), ('CLP1', 'PARK2'), ('AMPD2', 'PARK2'), ('PARK2', 'RPS4X'), ('VCP', 'WDR20'), ('APOA1', 'VCP'), ('2-Sep', 'PARK2'), ('MRI1', 'PARK2'), ('PPP6R3', 'RCHY1'), ('FKBP5', 'PARK2'), ('PARK2', 'VIM'), ('PARK2', 'RPL15'), ('CNOT4', 'CNOT8'), ('GTF3C1', 'RCHY1'), ('PARK2', 'TCHP'), ('PAK4', 'PARK2'), ('USP11', 'VCP'), ('PARK2', 'PDCD2'), ('RPA2', 'VCP'), ('GNB2L1', 'VHL'), ('DICER1', 'RCHY1'), ('PARK2', 'PATL1'), ('EIF4B', 'PARK2'), ('DDX54', 'PARK2'), ('KRT6A', 'VCP'), ('HBS1L', 'NBR1'), ('UBXN8', 'VCP'), ('RNF168', 'UBE2D3'), ('RNF216', 'UBE2D3'), ('ACO2', 'VCP'), ('CLEC16A', 'PARK2'), ('GNB1', 'GNB2L1'), ('CHD4', 'RCHY1'), ('ARPC4-TTLL3', 'PARK2'), ('GGH', 'VCP'), ('GNB2L1', 'TCEB2'), ('EDF1', 'PPARG'), ('ESYT2', 'PARK2'), ('GNB2L1', 'ZRANB1'), ('ACSL1', 'PARK2'), ('ELP2', 'PARK2'), ('FNTB', 'PARK2'), ('RCHY1', 'USP28'), ('GNB2L1', 'TUBG1'), ('EEF1G', 'PARK2'), ('CAPN5', 'PARK2'), ('CYB5B', 'VCP'), ('PARK2', 'PCCA'), ('DAZAP1', 'PARK2'), ('ASMTL', 'PARK2'), ('PARK2', 'RPL13'), ('FEN1', 'VCP'), ('PARK2', 'RPL29'), ('RCHY1', 'SNRNP200'), ('PARK2', 'UBE2D4'), ('HECW1', 'UBE2D3'), ('PARK2', 'SDHA'), ('NUDT19', 'PARK2'), ('F2', 'PARK2'), ('PARK2', 'PIP4K2C'), ('EPSTI1', 'VCP'), ('UBE2D1', 'VCP'), ('ETNK1', 'PARK2'), ('RCHY1', 'USP9X'), ('HERC5', 'UBE2D3'), ('PARK2', 'TARS'), ('DHX15', 'RCHY1'), ('BSG', 'PARK2'), ('SET', 'VCP'), ('ANXA2', 'VCP'), ('PARK2', 'PYCR1'), ('CUL7', 'RCHY1'), ('BRCA1', 'UBE2D3'), ('PARK2', 'POLR3E'), ('DNM2', 'VCP'), ('KCNH1', 'MKRN1'), ('KIF4A', 'PARK2'), ('KDM1B', 'UBE2D3'), ('PARK2', 'SARS2'), ('RNF126', 'UBE2D3'), ('GSTO1', 'VCP'), ('PARK2', 'PNKP'), ('DDX1', 'PARK2'), ('PARK2', 'PGK1'), ('RCHY1', 'TP63'), ('EP300', 'UFD1L'), ('TBC1D32', 'UBE2D3'), ('RCHY1', 'ZNF24'), ('CORO1B', 'PARK2'), ('ZFP36', 'ZNF598'), ('HELZ', 'PARK2'), ('HNRNPUL2-BSCL2', 'PARK2'), ('DHX57', 'PARK2'), ('OGT', 'PARK2'), ('GBE1', 'VCP'), ('FANCC', 'PARK2'), ('PARK2', 'SLC2A3'), ('MAP1LC3B', 'VCP'), ('NARS2', 'PARK2'), ('PARK2', 'SNX27'), ('RUVBL1', 'VCP'), ('TCF25', 'USP40'), ('NUP155', 'PARK2'), ('PARK2', 'PMPCB'), ('C14orf166', 'RCHY1'), ('GLRX3', 'VCP'), ('MAPT', 'UBE2D3'), ('PARK2', 'RPS2'), ('CDK5', 'LRRK2'), ('LACTB2', 'VCP'), ('HDAC6', 'PARK2'), ('PARK2', 'RPL21'), ('PARK2', 'ZCCHC3'), ('HOXA1', 'RCHY1'), ('PARK2', 'UCKL1'), ('PARK2', 'ZNF625'), ('NDUFV1', 'PARK2'), ('KIAA1429', 'VCP'), ('PARK2', 'UBE2M'), ('IARS2', 'PARK2'), ('MSL2', 'UBE2D3'), ('PARK2', 'TUBB6'), ('DDX49', 'PARK2'), ('MOV10', 'ZNF598'), ('BCKDK', 'PARK2'), ('CDC27', 'RCHY1'), ('PARK2', 'STIP1'), ('PARK2', 'UBE2J1'), ('RNF19A', 'VCP'), ('PARK2', 'VPS35'), ('USP7', 'VCP'), ('VCP', 'YWHAZ'), ('EIF3D', 'PARK2'), ('G3BP1', 'VCP'), ('MUL1', 'UBE2D3'), ('FBXO17', 'GNB2L1'), ('DVL1', 'LRRK2'), ('SIK2', 'VCP'), ('HTRA4', 'PELO'), ('ATXN1', 'VCP'), ('AP1G1', 'PARK2'), ('NBN', 'PARK2'), ('EXOC5', 'PARK2'), ('HDAC2', 'PARK2'), ('HSP90AA1', 'VCP'), ('RCHY1', 'SF3B3'), ('RNF113A', 'UBE2D3'), ('ESYT1', 'PARK2'), ('GSPT1', 'PARK2'), ('ALAD', 'VCP'), ('LRRK2', 'TP53'), ('COPB1', 'PARK2'), ('GNB2L1', 'IFNAR1'), ('PARK2', 'PC'), ('PSMC5', 'VCP'), ('RCHY1', 'RPSA'), ('LMNB2', 'RCHY1'), ('PAK2', 'PARK2'), ('PARK2', 'RARS'), ('PARK2', 'PML'), ('FASN', 'PARK2'), ('MYO9B', 'PARK2'), ('PARK2', 'USP33'), ('PARK2', 'TGFBR3'), ('VCP', 'VCPKMT'), ('VANGL1', 'VCP'), ('CASP8', 'LRRK2'), ('UBXN4', 'VCP'), ('ESR1', 'TRIP4'), ('PARK2', 'SMS'), ('FBXW11', 'UBE2D3'), ('EIF4EBP1', 'LRRK2'), ('APAF1', 'PARK2'), ('UBXN11', 'VCP'), ('HMCN1', 'PARK2'), ('GNB2L1', 'SPRTN'), ('HSPA4', 'PARK2'), ('CPT1A', 'PARK2'), ('ACOX1', 'PARK2'), ('PARK2', 'PKN1'), ('HTRA2', 'PARK2'), ('CNOT4', 'UBE2D1'), ('RCHY1', 'UBE2D2'), ('AGTRAP', 'GNB2L1'), ('GNB2L1', 'PIK3R4'), ('LTN1', 'RPL6'), ('NPLOC4', 'PPP1R15B'), ('HSPH1', 'PARK2'), ('FAF1', 'PARK2'), ('MEX3C', 'UBE2D3'), ('PABPC1', 'PARK2'), ('BCOR', 'PARK2'), ('KIF3A', 'PARK2'), ('PARK2', 'SF3A3'), ('ASCC3', 'SIRT6'), ('AKAP14', 'PARK2'), ('PARK2', 'ZFR'), ('GNB2L1', 'TBXA2R'), ('AGPS', 'PARK2'), ('ACADVL', 'VCP'), ('DAGLB', 'PARK2'), ('NADK2', 'PARK2'), ('PARK2', 'SMARCD1'), ('GNB2L1', 'MAP3K4'), ('GNB2L1', 'PRKAA1'), ('HSPA8', 'VCP'), ('CTPS1', 'PARK2'), ('PARK2', 'TUBA1C'), ('KARS', 'VCP'), ('PARK2', 'SLC3A2'), ('PARK2', 'TEX10'), ('ATP5A1', 'VCP'), ('FAM111B', 'PARK2'), ('PSMA2', 'VCP'), ('DNAJA1', 'PARK2'), ('EPHX1', 'PARK2'), ('ECD', 'PARK2'), ('ANKZF1', 'EDEM1'), ('LRRK2', 'TRADD'), ('UBQLN2', 'UFD1L'), ('COPA', 'PARK2'), ('IGHG2', 'PARK2'), ('PFAS', 'VCP'), ('PARK2', 'SNX9'), ('PARK2', 'SMURF2'), ('DLD', 'PARK2'), ('AKR1B1', 'VCP'), ('PARK2', 'PRPF31'), ('SFTPC', 'VCP'), ('CSNK1D', 'PARK2'), ('TOP3B', 'ZNF598'), ('RBM39', 'RCHY1'), ('KRT10', 'VCP'), ('GNB2L1', 'TCEB1'), ('VCP', 'ZFAND1'), ('PARK2', 'UBE2E3'), ('NUB1', 'UFD1L'), ('IPO7', 'VCP'), ('PARK2', 'SMARCAD1'), ('AR', 'RCHY1'), ('UBE2D3', 'UBE3A'), ('CSTF1', 'PARK2'), ('OLA1', 'VCP'), ('NME1', 'VCP'), ('PARK2', 'SACM1L'), ('PARK2', 'TBC1D22A'), ('RCHY1', 'RPS5'), ('UBXN6', 'UFD1L'), ('LRRK2', 'YWHAE'), ('NXN', 'PARK2'), ('CDC25A', 'VCP'), ('ABCA1', 'PARK2'), ('ZC3H7A', 'ZNF598'), ('BAP1', 'VCP'), ('EPPK1', 'PARK2'), ('NSUN2', 'PARK2'), ('PELO', 'ZRANB1'), ('RCHY1', 'RPS18'), ('VASP', 'VCP'), ('PARK2', 'WDR18'), ('PARK2', 'SSB'), ('PARK2', 'SF3B3'), ('PARK2', 'SRP68'), ('PARK2', 'PREB'), ('PARK2', 'ZNF326'), ('ASCC3', 'ZNF598'), ('PARK2', 'RNH1'), ('HADHA', 'RCHY1'), ('CNTD1', 'PARK2'), ('BRCA1', 'GNB2L1'), ('AXIN1', 'MKRN1'), ('LRRK2', 'RPL23'), ('PSMA7', 'VCP'), ('PARK2', 'SMAD3'), ('PARK2', 'VPS45'), ('AURKB', 'PARK2'), ('GNB2L1', 'TRAF2'), ('STRAP', 'VCP'), ('10-Sep', 'PARK2'), ('PARK2', 'WDR41'), ('ANKRD13D', 'VCP'), ('NPLOC4', 'UBC'), ('ERO1L', 'PARK2'), ('PARK2', 'STT3A'), ('HMGB1', 'VCP'), ('PARK2', 'UBE2D2'), ('5-Mar', 'VCP'), ('HIF1A', 'PARK2'), ('HERC5', 'PARK2'), ('DHX9', 'RCHY1'), ('HSPD1', 'LRRK2'), ('FAF1', 'UFD1L'), ('RPL18', 'VCP'), ('ASCC2', 'TRIM25'), ('ADRB2', 'GNB2L1'), ('TPI1', 'VCP'), ('5-Sep', 'PARK2'), ('PARK2', 'SFPQ'), ('PARK2', 'PGM2'), ('BRCA1', 'PARK2'), ('UBE2D3', 'UBOX5'), ('PARK2', 'PIK3C2A'), ('PARK2', 'PPP2R5C'), ('AP1M1', 'PARK2'), ('PARK2', 'POR'), ('MSRB2', 'PARK2'), ('DERL1', 'GNB2L1'), ('UBXN1', 'VCP'), ('MCCC2', 'PARK2'), ('KMT2C', 'PARK2'), ('PARK2', 'RANGAP1'), ('GATA4', 'GNB2L1'), ('VCP', 'XRCC5'), ('HAUS5', 'PARK2'), ('AHCYL1', 'PARK2'), ('CNOT4', 'YTHDF2'), ('UBC', 'UFD1L'), ('ELP3', 'PARK2'), ('BRD9', 'PARK2'), ('CAD', 'VCP'), ('PARK2', 'PITRM1'), ('PPP1R11', 'VCP'), ('UBE2D3', 'WSB1'), ('GNA13', 'PARK2'), ('PARK2', 'UBE2E1'), ('GTF3C3', 'PARK2'), ('PARK2', 'PFKP'), ('PARK2', 'SNCA'), ('PARK2', 'USP7'), ('RCHY1', 'RPS8'), ('NPLOC4', 'RAF1'), ('PARK2', 'PPP6R3'), ('PCGF5', 'UBE2D3'), ('PTGS2', 'VCP'), ('MED17', 'TRIP4'), ('ALB', 'VCP'), ('MAPT', 'PARK2'), ('PPP1R7', 'VCP'), ('EP300', 'VCP'), ('IRF3', 'PARK2'), ('ALDH2', 'VCP'), ('CEBPA', 'EDF1'), ('EPOR', 'GNB2L1'), ('AARS', 'PARK2'), ('GANAB', 'PARK2'), ('PARK2', 'PDE2A'), ('SPTBN1', 'VCP'), ('GATA4', 'PARK2'), ('CUEDC1', 'PARK2'), ('TRIM25', 'TRIP4'), ('PARK2', 'XRCC5'), ('CCDC8', 'PARK2'), ('PARK2', 'RPS20'), ('BFAR', 'UBE2D3'), ('GSTZ1', 'VCP'), ('RCHY1', 'RPL4'), ('CCNE1', 'PARK2'), ('HERC1', 'UBE2D3'), ('PARK2', 'UQCRC1'), ('HIST4H4', 'PARK2'), ('PARK2', 'PUM2'), ('C3orf17', 'PARK2'), ('EDF1', 'NRL'), ('EFTUD2', 'PARK2'), ('KDELR1', 'PARK2'), ('PARK2', 'TAF5'), ('PARK2', 'WDR3'), ('NOP2', 'RCHY1'), ('GNB2L1', 'PTPN11'), ('CDK2', 'PARK2'), ('PARK2', 'PCBP1'), ('PARK2', 'SF3B1'), ('LTA4H', 'PARK2'), ('RCHY1', 'RPL34'), ('PARK2', 'RBM12'), ('ALDH7A1', 'PARK2'), ('PARK2', 'RUVBL1'), ('PARK2', 'UBA1'), ('DEPDC1B', 'PARK2'), ('NELFB', 'PARK2'), ('LMNB1', 'RCHY1'), ('RPS11', 'VCP'), ('DNAJB1', 'PARK2'), ('PARK2', 'UPF2'), ('RAF1', 'TRIP4'), ('NONO', 'PARK2'), ('JUP', 'PARK2'), ('HSP90AA1', 'LRRK2'), ('FBXO2', 'UBE2D3'), ('ABHD17C', 'VCP'), ('PARK2', 'ZNF277'), ('GNB2L1', 'STYK1'), ('CHD1L', 'PARK2'), ('PELO', 'SPRTN'), ('ITPR3', 'VCP'), ('PARK2', 'UBB'), ('PANK3', 'PARK2'), ('LRRK2', 'RIPK1'), ('EIF2S1', 'PARK2'), ('HSP90AB1', 'UBE2D3'), ('C1orf141', 'PARK2'), ('FBXW11', 'PARK2'), ('MRPS26', 'RCHY1'), ('AAAS', 'PARK2'), ('TXNRD1', 'VCP'), ('PARK2', 'SRPK2'), ('LRCH2', 'PARK2'), ('FDPS', 'VCP'), ('CNOT3', 'CNOT4'), ('MID2', 'UBE2D3'), ('GNB2L1', 'SLC9A3R1'), ('PPP2CA', 'RCHY1'), ('MAGT1', 'PARK2'), ('NCAPD3', 'PARK2'), ('GNB2L1', 'PRKCB'), ('RAC3', 'VCP'), ('FZR1', 'MKRN1'), ('PDIA3', 'VCP'), ('ERLIN2', 'PARK2'), ('GPHN', 'PARK2'), ('HLTF', 'PARK2'), ('PARK2', 'SLC25A25'), ('PARK2', 'VTN'), ('PARK2', 'WDR70'), ('DNAJC3', 'PARK2'), ('PARK2', 'TMX4'), ('RNF13', 'UBE2D3'), ('GATAD2B', 'PARK2'), ('ELAVL1', 'PARK2'), ('AREL1', 'UBE2D3'), ('PARK2', 'UQCRC2'), ('ELAVL1', 'MKRN1'), ('GPD2', 'PARK2'), ('FXR2', 'PARK2'), ('CWC22', 'PARK2'), ('PARK2', 'PELO'), ('LRRK2', 'YWHAQ'), ('CFL1', 'VCP'), ('HSPA8', 'LRRK2'), ('PARK2', 'XPOT'), ('GNB2L1', 'LARP4B'), ('RPS3', 'VCP'), ('ASCC3', 'TRIP4'), ('PARK2', 'RCN1'), ('FH', 'PARK2'), ('AKT1', 'PARK2'), ('C12orf65', 'ZRANB1'), ('MRPL37', 'PARK2'), ('HNRNPUL1', 'RCHY1'), ('PARK2', 'PPIL4'), ('LRRC59', 'VCP'), ('ATP1A1', 'RCHY1'), ('CCT7', 'PARK2'), ('RAB5C', 'VCP'), ('EXOSC8', 'HBS1L'), ('GNAI2', 'PARK2'), ('MATR3', 'PARK2'), ('HBS1L', 'PARK2'), ('PARK2', 'POLR3A'), ('FBXL2', 'VCP'), ('RCHY1', 'RPL18'), ('PARK2', 'ZNF512'), ('NCBP1', 'RCHY1'), ('PARK2', 'TRIM28'), ('ADRBK2', 'PARK2'), ('MRE11A', 'VCP'), ('CLTA', 'VCP'), ('CDC40', 'PARK2'), ('CLPTM1', 'PARK2'), ('CAMK2A', 'RCHY1'), ('PARK2', 'SNRNP70'), ('CKB', 'PARK2'), ('RCHY1', 'RPS9'), ('PARK2', 'TRA2B'), ('PLAA', 'VCP'), ('CXorf57', 'PARK2'), ('CNOT4', 'KDM5C'), ('NFKB1', 'VCP'), ('PARK2', 'TBK1'), ('RNF213', 'UBE2D3'), ('EDF1', 'NR1H3'), ('PFN1', 'VCP'), ('BECN1', 'GNB2L1'), ('ANKRD13A', 'VCP'), ('HMMR', 'LRRK2'), ('PARK2', 'PRPF38B'), ('MAP2K1', 'PARK2'), ('MTMR9', 'PARK2'), ('DDX58', 'UBE2D3'), ('NOP58', 'PARK2'), ('CNOT4', 'UBAP2L'), ('PARK2', 'PRPF4B'), ('EPB41L3', 'PARK2'), ('CDK5RAP3', 'PARK2'), ('HADH', 'VCP'), ('JAK2', 'VCP'), ('PARK2', 'RPS17'), ('PARK2', 'PLRG1'), ('ATP5B', 'RCHY1'), ('PARK2', 'RAD23A'), ('PARK2', 'RPL7'), ('PARK2', 'PSMD3'), ('OSBP', 'PARK2'), ('LRRK2', 'RAB29'), ('MED24', 'TRIP4'), ('RBX1', 'UBE2D3'), ('GIGYF2', 'ZNF598'), ('HECW2', 'UBE2D3'), ('EDF1', 'NR5A2'), ('EWSR1', 'RCHY1'), ('LRRC15', 'VCP'), ('HNRNPD', 'VCP'), ('NPEPPS', 'VCP'), ('TUBA1C', 'VCP'), ('RCHY1', 'SRSF1'), ('TRIP13', 'VCP'), ('11-Sep', 'PARK2'), ('ACSF2', 'PARK2'), ('MCL1', 'PARK2'), ('RCHY1', 'TUBA1B'), ('RHOF', 'VCP'), ('PARK2', 'RMND5A'), ('EIF5A', 'VCP'), ('AVPR2', 'VCP'), ('LRRK2', 'STUB1'), ('GNB2L1', 'RASA1'), ('LTN1', 'UBC'), ('PARK2', 'PSMD12'), ('PARK2', 'TBC1D15'), ('CPVL', 'PARK2'), ('ERLIN2', 'UFD1L'), ('PARK2', 'ZNF564'), ('CNOT4', 'CNOT4'), ('PPP1CC', 'VCP'), ('GLUD1', 'PARK2'), ('OGDH', 'PARK2'), ('ACIN1', 'PARK2'), ('GAPDH', 'PARK2'), ('MED13', 'TRIP4'), ('DIS3L', 'ZNF598'), ('RARA', 'TRIP4'), ('HSPA4', 'VCP'), ('LRRK2', 'TNPO1'), ('SMURF1', 'UBE2D3'), ('AGO2', 'LRRK2'), ('LTN1', 'SEC61B'), ('HTRA2', 'VCP'), ('PARK2', 'SLC25A13'), ('RCHY1', 'SUPT6H'), ('MYC', 'VCP'), ('COLGALT1', 'PARK2'), ('UGT1A10', 'VCP'), ('HYOU1', 'PARK2'), ('HSPH1', 'VCP'), ('RCHY1', 'RPL14'), ('NOSIP', 'UBE2D3'), ('PARK2', 'PPAT'), ('FASTKD5', 'PARK2'), ('PARK2', 'TPP1'), ('PARK2', 'RPN2'), ('PRPF6', 'RCHY1'), ('ASCC3', 'FBXO32'), ('LRRK2', 'MAP1B'), ('ALG1', 'PARK2'), ('PARK2', 'PGD'), ('HSPA13', 'PARK2'), ('ANKRD13B', 'VCP'), ('AGO1', 'LTN1'), ('CUL1', 'VCP'), ('RCHY1', 'RPL30'), ('DGAT2', 'VCP'), ('EPB41', 'PARK2'), ('EDF1', 'ZRANB1'), ('UQCRC2', 'VCP'), ('MRPS9', 'RCHY1'), ('HSPA5', 'PARK2'), ('ITGB1', 'VCP'), ('PARK2', 'ZNF616'), ('PARK2', 'SUPV3L1'), ('NPLOC4', 'TGFBR2'), ('PARK2', 'UBE2D3'), ('CNN3', 'PARK2'), ('GZMK', 'UFD1L'), ('CCND3', 'PARK2'), ('CTPS1', 'VCP'), ('CRBN', 'UBE2D3'), ('CCNL1', 'PARK2'), ('PARK2', 'RBFOX2'), ('GNB2L1', 'MAVS'), ('PARK2', 'PURA'), ('CFTR', 'VCP'), ('GNB2L1', 'KCNAB1'), ('HDAC3', 'PARK2'), ('ALDOA', 'PARK2'), ('EPHX1', 'VCP'), ('CCT8', 'PARK2'), ('NLN', 'PARK2'), ('PARK2', 'STXBP1'), ('COPA', 'VCP'), ('GNB2L1', 'SLC9A5'), ('GRSF1', 'PARK2'), ('ALDH9A1', 'PARK2'), ('PARK2', 'TP53'), ('LRRK2', 'TGOLN2'), ('LTN1', 'TMEM173'), ('PARK2', 'TBCE'), ('LMNA', 'VCP'), ('TRIM54', 'UBE2D3'), ('PARK2', 'PDP1'), ('HDGF', 'VCP'), ('CISD1', 'PARK2'), ('8-Sep', 'PARK2'), ('PACRG', 'VCP'), ('OPA1', 'PARK2'), ('PARK2', 'ZNF574'), ('RNF31', 'VCP'), ('HGS', 'PARK2'), ('CDKN1B', 'RCHY1'), ('RCHY1', 'TOP2A'), ('CASK', 'PARK2'), ('FANCA', 'PARK2'), ('GNB2L1', 'HABP4'), ('GTF3C4', 'PARK2'), ('AMBRA1', 'UBE2D3'), ('NFKBIA', 'NPLOC4'), ('PARK2', 'UBE2L3'), ('GNL3', 'RCHY1'), ('CDC73', 'PARK2'), ('RCHY1', 'XRCC6'), ('PARK2', 'STIM1'), ('VANGL2', 'VCP'), ('PARK2', 'RFFL'), ('ACOT9', 'PARK2'), ('KAT2B', 'UBE2D3'), ('PARK2', 'PHGDH'), ('DDX23', 'PARK2'), ('CDC16', 'PARK2'), ('GNB2L1', 'RPS6'), ('PARK2', 'RBM15'), ('AMOT', 'RCHY1'), ('MDH2', 'VCP'), ('CHUK', 'PARK2'), ('GNB2L1', 'ITGB2'), ('CNOT4', 'YTHDF3'), ('PARK2', 'STRAP'), ('PARK2', 'SRSF1'), ('LRRK2', 'MARK1'), ('HSP90AB1', 'PARK2'), ('HECTD1', 'VCP'), ('NGLY1', 'VCP'), ('ILVBL', 'PARK2'), ('TRIP4', 'TULP3'), ('RPS7', 'VCP'), ('PARK2', 'SNX30'), ('NEMF', 'SEC61B'), ('FBP1', 'PARK2'), ('PCNA', 'UBE2D3'), ('DTX3L', 'UBE2D3'), ('LRRK2', 'MFN1'), ('CCNF', 'VCP'), ('PARK2', 'TBC1D24'), ('PAN3', 'PARK2'), ('ERAP1', 'PARK2'), ('CCT2', 'VCP'), ('PARK2', 'TRIM56'), ('PARK2', 'U2SURP'), ('PARK2', 'RPS12'), ('KIF23', 'PARK2'), ('HNRNPF', 'RCHY1'), ('PARK2', 'RPL9'), ('PARK2', 'PSMD6'), ('PARK2', 'SMARCA5'), ('LRRK2', 'SYNJ1'), ('PARK2', 'RBBP4'), ('FUS', 'PARK2'), ('EDF1', 'SOX4'), ('PARK2', 'RPL10'), ('TALDO1', 'VCP'), ('NCAPD2', 'PARK2'), ('HNRNPUL1', 'PARK2'), ('RNF11', 'UBE2D3'), ('ITPR1', 'UFD1L'), ('PARK2', 'SETD3'), ('SYNCRIP', 'VCP'), ('IGKV4-1', 'VCP'), ('CAMK2D', 'RCHY1'), ('EIF3G', 'PELO'), ('ABCF1', 'RCHY1'), ('PARK2', 'TUBB4B'), ('GNAZ', 'PARK2'), ('IMMT', 'VCP'), ('LONP1', 'PARK2'), ('NCOA1', 'TRIP4'), ('H3F3A', 'VCP'), ('PARK2', 'TCF25'), ('AP3M1', 'PARK2'), ('AURKA', 'PARK2'), ('ADRM1', 'PARK2'), ('NPLOC4', 'UBXN7'), ('CRTAP', 'PARK2'), ('MSH2', 'PARK2'), ('NCBP1', 'PARK2'), ('PARK2', 'YWHAE'), ('MAVS', 'PARK2'), ('EIF6', 'GNB2L1'), ('HEY1', 'VCP'), ('LANCL2', 'PARK2'), ('RAD50', 'VCP'), ('GLI1', 'GNB2L1'), ('DNM1L', 'PARK2'), ('KIF1A', 'PARK2'), ('HIST1H2AG', 'RCHY1'), ('ATG7', 'PARK2'), ('SYVN1', 'VCP'), ('NFX1', 'PARK2'), ('AHCY', 'VCP'), ('GNB2L1', 'GRAP2'), ('VCP', 'XRCC6'), ('MLYCD', 'PARK2'), ('SAMHD1', 'VCP'), ('PPIA', 'VCP'), ('PARK2', 'SLC25A12'), ('GLS', 'PARK2'), ('RPL24', 'VCP'), ('PARK2', 'SERPINB1'), ('PARK2', 'RORB'), ('DNAJA2', 'RCHY1'), ('ILF3', 'PARK2'), ('DDX3X', 'PARK2'), ('FEM1B', 'GNB2L1'), ('MCM2', 'VCP'), ('PARK2', 'RBM12B'), ('NMD3', 'PARK2'), ('GPAA1', 'PARK2'), ('PARK2', 'PRKCI'), ('IGF2BP1', 'PARK2'), ('CDC25A', 'NPLOC4'), ('ABCD3', 'PARK2'), ('ANXA11', 'PARK2'), ('PARK2', 'SAMHD1'), ('HNRNPC', 'PARK2'), ('RCHY1', 'RPL32'), ('PARK2', 'PCYOX1'), ('DDX58', 'PARK2'), ('HBA2', 'PARK2'), ('PA2G4', 'RCHY1'), ('CARM1', 'PARK2'), ('TRIM67', 'VCP'), ('PARK2', 'SMARCD2'), ('RANBP1', 'VCP'), ('KPNB1', 'VCP'), ('PARK2', 'SLC25A24'), ('RPN1', 'VCP'), ('PARK2', 'RPL7A'), ('NUP133', 'RCHY1'), ('CHFR', 'UBE2D3'), ('PARK2', 'PICALM'), ('LRRK2', 'RHOA'), ('KPNA4', 'PARK2'), ('NPLOC4', 'TTC26'), ('UBA1', 'UBE2D3'), ('CHEK2', 'VCP'), ('MUL1', 'VCP'), ('RCHY1', 'RPL27'), ('LMAN1', 'PARK2'), ('PARK2', 'RACGAP1'), ('RPS4X', 'VCP'), ('ITGA4', 'VCP'), ('TCF25', 'TULP3'), ('LRRK2', 'MAPT'), ('PARK2', 'SELENBP1'), ('GNB2L1', 'ITGB1'), ('RPL12', 'VCP'), ('PLK1', 'VCP'), ('PARK2', 'SF3A1'), ('RPL7', 'VCP'), ('CA13', 'PARK2'), ('NONO', 'VCP'), ('JUP', 'VCP'), ('PARK2', 'RPLP0'), ('NUP85', 'RCHY1'), ('HSPA9', 'LRRK2'), ('NPLOC4', 'TMUB1'), ('ACTL6A', 'PARK2'), ('PARK2', 'YES1'), ('HNRNPK', 'PARK2'), ('C6orf203', 'ZRANB1'), ('ARHGDIA', 'VCP'), ('KIF2A', 'PARK2'), ('LRRK1', 'LRRK2'), ('CLPTM1L', 'PARK2'), ('YTHDF2', 'ZNF598'), ('PARK2', 'TRIOBP'), ('PARK2', 'SUCLG2'), ('AKR1B10', 'VCP'), ('MB21D2', 'PARK2'), ('EIF2S1', 'VCP'), ('PARK2', 'UBASH3A'), ('NPLOC4', 'NSFL1C'), ('FBXW11', 'VCP'), ('HSPA4', 'LRRK2'), ('PARK2', 'SRP72'), ('TXNDC5', 'VCP'), ('CALU', 'RCHY1'), ('PARK2', 'RFC2'), ('HSPH1', 'LRRK2'), ('ASPSCR1', 'UFD1L'), ('PTRH1', 'RAF1'), ('NT5DC2', 'PARK2'), ('GNB2L1', 'PPP2CA'), ('PARK2', 'TCP1'), ('MRPS27', 'RCHY1'), ('EIF4A1', 'VCP'), ('LRRK2', 'YWHAZ'), ('USP2', 'ZNF598'), ('TUBB', 'VCP'), ('DDX5', 'VCP'), ('PARK2', 'RPS6KB2'), ('SCD', 'VCP'), ('PARK2', 'SMG9'), ('FADD', 'LRRK2'), ('VCP', 'YWHAG'), ('CFAP58', 'PARK2'), ('EXOSC1', 'HBS1L'), ('MAN1A2', 'PARK2'), ('PARK2', 'PARK2'), ('TRIM27', 'UBE2D3'), ('ORC5', 'PARK2'), ('MCM3', 'PARK2'), ('CTTN', 'PARK2'), ('CHCHD3', 'PARK2'), ('NUP54', 'PARK2'), ('DIRAS2', 'PARK2'), ('RPL9', 'VCP'), ('PARK2', 'RRM1'), ('TRAIP', 'UBE2D3'), ('PPT1', 'VCP'), ('SLC43A3', 'VCP'), ('KPNA2', 'PARK2'), ('APEH', 'PARK2'), ('PARK2', 'SCYL1'), ('PARK2', 'PGM1'), ('ILF2', 'RCHY1'), ('PARK2', 'UBE2O'), ('FAM98B', 'PARK2'), ('GDI2', 'PARK2'), ('CALR', 'PARK2'), ('EEF1B2', 'VCP'), ('PARK2', 'YWHAG'), ('PSMD4', 'VCP'), ('NME2', 'PARK2'), ('NAMPT', 'PARK2'), ('RCHY1', 'SND1'), ('EHD1', 'PARK2'), ('SFN', 'VCP'), ('RNF125', 'UBE2D3'), ('GZMK', 'VCP'), ('BTRC', 'UBE2D3'), ('MRPS5', 'PARK2'), ('MAOA', 'PARK2'), ('GNB2L1', 'RB1'), ('AMBRA1', 'PARK2'), ('PARK2', 'UTP18'), ('EGFR', 'PARK2'), ('ABCF2', 'RCHY1'), ('FAM111A', 'PARK2'), ('AKAP8', 'PARK2'), ('ANKFY1', 'PARK2'), ('CHPF', 'PARK2'), ('UBE2D3', 'VHL'), ('PARK2', 'RPS6KA3'), ('IMPDH2', 'PARK2'), ('GNB2L1', 'PDE4D'), ('MEX3B', 'ZNF598'), ('MYCBP2', 'UBE2D3'), ('PARK2', 'PDHA1'), ('PARK2', 'WDR26'), ('BCS1L', 'PARK2'), ('CS', 'PARK2'), ('ASCC2', 'HDLBP'), ('UBASH3B', 'UBE2D3'), ('ACAT1', 'VCP'), ('MED23', 'TRIP4'), ('RCHY1', 'RPS25'), ('ME1', 'PARK2'), ('ACTBL2', 'PARK2'), ('PARK2', 'TRIM3'), ('DDX46', 'RCHY1'), ('UFD1L', 'ZRANB1'), ('IFITM3', 'VCP'), ('BAG1', 'LTN1'), ('GLUL', 'UFD1L'), ('PARK2', 'RNPEP'), ('MCMBP', 'PARK2'), ('HP1BP3', 'PARK2'), ('DPYSL2', 'PARK2'), ('ERCC3', 'PARK2'), ('GAPVD1', 'PARK2'), ('PARK2', 'TRMU'), ('HSD17B12', 'PARK2'), ('CDK9', 'RCHY1'), ('GRIK2', 'PARK2'), ('IPO8', 'PARK2'), ('ITCH', 'UBE2D3'), ('ATP1B1', 'PARK2'), ('EIF3L', 'VCP'), ('NBR1', 'UBE2D3'), ('PARK2', 'PKM'), ('NACC1', 'PARK2'), ('PARK2', 'PMPCA'), ('PARK2', 'UVRAG'), ('PCBP1', 'VCP'), ('MED1', 'TRIP4'), ('LAS1L', 'PARK2'), ('COPG1', 'PARK2'), ('NUP62', 'PARK2'), ('EIF3A', 'VCP'), ('EIF4G2', 'PARK2'), ('ANLN', 'PARK2'), ('ETF1', 'PARK2'), ('PARK2', 'SRPK1'), ('UBXN7', 'UFD1L'), ('LRRK2', 'PIK3CB'), ('UBE2D3', 'VPRBP'), ('FBXW7', 'PARK2'), ('PARK2', 'SNX8'), ('FBXO3', 'PARK2'), ('MTCH2', 'PARK2'), ('PARK2', 'SNX1'), ('PSMD13', 'VCP'), ('ARHGAP10', 'PARK2'), ('NOL9', 'PARK2'), ('PARK2', 'WRNIP1'), ('CRLF3', 'PARK2'), ('RCHY1', 'URB1'), ('GAPDH', 'VCP'), ('ARFGAP1', 'LRRK2'), ('GOT2', 'VCP'), ('OSBPL11', 'PARK2'), ('TUBB4B', 'VCP'), ('NPLOC4', 'WIPI2'), ('LMBR1L', 'VCP'), ('COLGALT1', 'VCP'), ('DNAJC7', 'PARK2'), ('HNRNPR', 'PARK2'), ('ITPR1', 'VCP'), ('PARK2', 'TOP3B'), ('STUB1', 'UBE2D3'), ('RNF114', 'UBE2D3'), ('ZC3HAV1', 'ZNF598'), ('GHDC', 'PARK2'), ('CLTC', 'LRRK2'), ('MACROD1', 'PARK2'), ('DDX17', 'PARK2'), ('HPS6', 'PARK2'), ('RCHY1', 'RPL26'), ('NARF', 'PARK2'), ('EXOSC3', 'HBS1L'), ('PARK2', 'UGP2'), ('PARK2', 'SND1'), ('HPRT1', 'VCP'), ('HSD17B10', 'RCHY1'), ('PABPC4', 'PARK2'), ('FLNC', 'PARK2'), ('GNB2L1', 'HDLBP'), ('RELA', 'TRIP4'), ('IZUMO3', 'PARK2'), ('HIST1H1B', 'VCP'), ('NSUN5P2', 'PARK2'), ('PARK2', 'RIPK3'), ('ACBD3', 'PARK2'), ('NFXL1', 'PARK2'), ('DNAJC10', 'PARK2'), ('PARK2', 'SHCBP1'), ('CTSC', 'VCP'), ('DNAJC11', 'PARK2'), ('RCHY1', 'RPL13A'), ('AHSA1', 'GNB2L1'), ('PARK2', 'STUB1'), ('ACSL3', 'VCP'), ('GNB2L1', 'OTUB1'), ('PARK2', 'THUMPD1'), ('UGP2', 'VCP'), ('MED10', 'TRIP4'), ('PARK2', 'RPS25'), ('PARK2', 'RPL11'), ('DDX39B', 'PARK2'), ('ASCC2', 'PAIP1'), ('GNB2L1', 'RSC1A1'), ('KDM3B', 'PARK2'), ('TUBB2A', 'VCP'), ('PARK2', 'SEC23B'), ('PARK2', 'PSMC6'), ('FBXO25', 'UBE2D3'), ('LARP4B', 'TRIP4'), ('NHLRC2', 'PARK2'), ('NSFL1C', 'UFD1L'), ('PARK2', 'RIC8A'), ('BIRC7', 'UBE2D3'), ('HNRNPH1', 'PARK2'), ('PARK2', 'SSRP1'), ('PARK2', 'ZCCHC8'), ('PARK2', 'U2AF2'), ('UBE2D1', 'ZNF598'), ('MOV10', 'PARK2'), ('IDH2', 'VCP'), ('AHSA1', 'PARK2'), ('PPP1R15B', 'UFD1L'), ('LYN', 'PARK2'), ('PARK2', 'PNPLA6'), ('LRRK2', 'NRON'), ('PARK2', 'SFXN1'), ('PARK2', 'PCNA'), ('TRIM21', 'UBE2D3'), ('ADD3', 'PARK2'), ('FAS', 'VCP'), ('COQ6', 'PARK2'), ('CD3D', 'VCP'), ('PARK2', 'PYGB'), ('PARK2', 'PYGL'), ('PARK2', 'SLC25A5'), ('NQO1', 'PARK2'), ('PRDX3', 'VCP'), ('IKBKG', 'PARK2'), ('PARD6B', 'PARK2'), ('FAF1', 'NPLOC4'), ('PARK2', 'PRKAR2A'), ('UBD', 'ZNF598'), ('GABPA', 'PARK2'), ('MEX3B', 'TRIP4'), ('PRKAA1', 'VCP'), ('ANXA5', 'VCP'), ('LRRK2', 'PRKCZ'), ('HNRNPD', 'RCHY1'), ('EEF2', 'ZNF598'), ('PAF1', 'PARK2'), ('PARK2', 'TRAFD1'), ('DYNC1I2', 'PARK2'), ('HDAC4', 'PARK2'), ('MED17', 'PARK2'), ('DAP3', 'PARK2'), ('FUS', 'VCP'), ('SHFM1', 'VCP'), ('BTRC', 'GNB2L1'), ('HSPB1', 'VCP'), ('BACH1', 'PARK2'), ('MSL1', 'UBE2D3'), ('EIF3B', 'PARK2'), ('TCF25', 'TRIM31'), ('HSPA9', 'RCHY1'), ('PARK2', 'SEC23A'), ('EIF3G', 'PARK2'), ('RCHY1', 'TUBB2A'), ('OTUB1', 'UBE2D3'), ('ASPSCR1', 'VCP'), ('ILF2', 'PARK2'), ('MTHFD1L', 'PARK2'), ('DHX30', 'RCHY1'), ('RNF185', 'VCP'), ('LGALS3BP', 'PARK2'), ('PARK2', 'RPS16'), ('LIMK1', 'PARK2'), ('CCNA1', 'GNB2L1'), ('ESR2', 'TRIP4'), ('PARK2', 'THOP1'), ('PARK2', 'STRN4'), ('RCHY1', 'RPL5'), ('SOD1', 'VCP'), ('PARK2', 'POP1'), ('ACACA', 'PARK2'), ('HNRNPM', 'PARK2'), ('PARK2', 'SEH1L'), ('PARK2', 'SF1'), ('CUL5', 'PARK2'), ('GNB2L1', 'SYN2'), ('CSDE1', 'PARK2'), ('CPSF2', 'PARK2'), ('NPLOC4', 'UBQLN2'), ('DDB2', 'PARK2'), ('AP1B1', 'PARK2'), ('MAP3K2', 'PARK2'), ('AGR2', 'VCP'), ('ACTR2', 'PARK2'), ('PARK2', 'TBL1XR1'), ('FKBP8', 'PARK2'), ('CDK1', 'PARK2'), ('MED4', 'TRIP4'), ('PARK2', 'TARS2'), ('LRRK2', 'TPM1'), ('TRIM23', 'UBE2D3'), ('PARK2', 'PDIA6'), ('NMD3', 'VCP'), ('GPRASP2', 'TCF25'), ('POR', 'VCP'), ('PARK2', 'PLOD1'), ('ARHGEF7', 'PARK2'), ('ACSL4', 'PARK2'), ('PPIB', 'VCP'), ('NPLOC4', 'UBXN11'), ('PARK2', 'PUS1'), ('MKRN1', 'PABPC1'), ('PARK2', 'PSMC5'), ('IRF7', 'LTN1'), ('HDAC1', 'PARK2'), ('PARK2', 'SPTLC1'), ('OXCT1', 'PARK2'), ('NPLOC4', 'TP53BP1'), ('CDC20', 'PARK2'), ('EPS15', 'UBE2D3'), ('RNF26', 'UBE2D3'), ('PARK2', 'RFWD3'), ('PARK2', 'STAG2'), ('PARK2', 'SARS'), ('NOP14', 'PARK2'), ('ATP2A2', 'PARK2'), ('ACTB', 'PARK2'), ('LRRK2', 'MID2'), ('PANK4', 'PARK2'), ('DBR1', 'PARK2'), ('HK1', 'PARK2'), ('NPLOC4', 'PARK2'), ('CTH', 'PARK2'), ('ATP8B3', 'PARK2'), ('RNF4', 'UBE2D3'), ('LMAN1', 'VCP'), ('EEF1D', 'VCP'), ('PARK2', 'YAP1'), ('DPP3', 'PARK2'), ('C6orf211', 'PARK2'), ('NDRG1', 'VCP'), ('HOXB5', 'RCHY1'), ('PARK2', 'RPL10A'), ('RCHY1', 'RPS24'), ('9-Sep', 'PARK2'), ('FLII', 'PARK2'), ('GNB2L1', 'TENM1'), ('DDIT3', 'PARK2'), ('UBL4A', 'VCP'), ('PARK2', 'SRRT'), ('ATAD3A', 'PARK2'), ('GNB2L1', 'USP40'), ('DSP', 'PARK2'), ('TRIM69', 'UBE2D3'), ('FDXR', 'PARK2'), ('PARK2', 'SLC6A3'), ('ALDH4A1', 'PARK2'), ('KRT2', 'VCP'), ('MDH1', 'PARK2'), ('MYO6', 'PARK2'), ('MED15', 'TRIP4'), ('PARK2', 'RPL27A'), ('PYCR2', 'VCP'), ('POLH', 'RCHY1'), ('PARK2', 'XRN2'), ('EXOSC9', 'HBS1L'), ('ERCC2', 'PARK2'), ('HNRNPL', 'PARK2'), ('FBXL12', 'UBE2D3'), ('GNB2L1', 'HIST1H4A'), ('PARK2', 'PRKAA2'), ('POLR2A', 'VCP'), ('HNRNPA1', 'PARK2'), ('CNOT4', 'CNOT6'), ('NCLN', 'PARK2'), ('BCL2L2', 'PARK2'), ('PAPSS2', 'PARK2'), ('KIF5B', 'PARK2'), ('AP3B1', 'PARK2'), ('VCP', 'VCP'), ('ACTR3', 'LRRK2'), ('KHDRBS1', 'PARK2'), ('PARK2', 'PTBP1'), ('PARK2', 'TMX3'), ('SMURF1', 'VCP'), ('IARS', 'VCP'), ('KLHDC4', 'PARK2'), ('ABCG2', 'VCP'), ('MICU1', 'PARK2'), ('CRNKL1', 'PARK2'), ('PARK2', 'TSG101'), ('NHLRC1', 'UBE2D3'), ('UBXN7', 'VCP'), ('HNRNPAB', 'RCHY1'), ('ATP6AP1', 'PARK2'), ('COPB2', 'PARK2'), ('PARK2', 'RPS23'), ('DHX16', 'PARK2'), ('EED', 'GNB2L1'), ('CUL3', 'VCP'), ('LYAR', 'RCHY1'), ('EIF3I', 'PARK2'), ('HARS', 'PARK2'), ('PARK2', 'PLOD3'), ('RCHY1', 'SRPRB'), ('VCP', 'VIMP'), ('ALDH18A1', 'PARK2'), ('PARK2', 'SUPT16H'), ('PARK2', 'PRKCA'), ('SERBP1', 'VCP'), ('PARK2', 'RELA'), ('PARK2', 'PPFIA1'), ('SLX4', 'VCP'), ('GNB2L1', 'NSMAF'), ('PARK2', 'SEC31A'), ('RPS8', 'VCP'), ('BTRC', 'UFD1L'), ('DRG1', 'PARK2'), ('NSF', 'PARK2'), ('DPP9', 'PARK2'), ('GTF3C5', 'PARK2'), ('MED28', 'TRIP4'), ('LRRK2', 'NEURL4'), ('CORO7', 'PARK2'), ('CNOT4', 'UBE2E1'), ('ANXA2P2', 'PARK2'), ('TRIM9', 'VCP'), ('UBE2D3', 'UBE3C'), ('PARK2', 'POLD1'), ('ASCC1', 'ASCC3'), ('RB1CC1', 'VCP'), ('RCHY1', 'RPL28'), ('ADSS', 'PARK2'), ('PARK2', 'RANBP1'), ('PARK2', 'SRRM2'), ('CORO1A', 'PARK2'), ('NUP98', 'RCHY1'), ('NME2', 'VCP'), ('PARK2', 'SIM2'), ('NFS1', 'PARK2'), ('DDX21', 'PARK2'), ('PARK2', 'TECR'), ('PARK2', 'TRDMT1'), ('DDX41', 'PARK2'), ('FAF2', 'PARK2'), ('NFKBIA', 'VCP'), ('PARK2', 'PDIA3'), ('PARK2', 'SRSF4'), ('PARK2', 'USP28'), ('PARK2', 'UBE2S'), ('GNE', 'VCP'), ('ATXN3', 'VCP'), ('MDM2', 'RCHY1'), ('HADHB', 'RCHY1'), ('GNB2L1', 'SRC'), ('CLN6', 'VCP'), ('NPLOC4', 'UFD1L'), ('PARK2', 'SNRNP200'), ('TMUB1', 'UFD1L'), ('HAX1', 'PELO'), ('PARK2', 'YWHAZ'), ('RCHY1', 'RPLP1'), ('SH3RF1', 'UBE2D3'), ('RPS10', 'VCP'), ('PARK2', 'SERPINH1'), ('DYNC1H1', 'PARK2'), ('HSP90AB1', 'LRRK2'), ('PARK2', 'USP9X'), ('RNF7', 'UBE2D3'), ('FBXO4', 'UBE2D3'), ('NUP93', 'RCHY1'), ('NXF1', 'PARK2'), ('APOB', 'VCP'), ('GTPBP1', 'PARK2'), ('SRF', 'TRIP4'), ('FGD4', 'PARK2'), ('NSFL1C', 'VCP'), ('RPL32', 'ZNF598'), ('DUT', 'PARK2'), ('HMOX1', 'UFD1L'), ('GNB2L1', 'GNB2L1'), ('ABCB10', 'PARK2'), ('TPD52L2', 'VCP'), ('ERCC3', 'VCP'), ('ASCC1', 'ASCC2'), ('BARD1', 'VCP'), ('ACLY', 'PARK2'), ('CHEK2', 'RCHY1'), ('CHAF1B', 'PARK2'), ('APEX1', 'PARK2'), ('ATM', 'PARK2'), ('IQGAP1', 'PARK2'), ('IQGAP3', 'VCP'), ('DNAJB8', 'LRRK2'), ('DGKE', 'PARK2'), ('PTBP1', 'RCHY1'), ('PARK2', 'UBE2G2'), ('PARK2', 'PRPF19'), ('IQGAP2', 'VCP'), ('TTR', 'VCP'), ('VCP', 'WDR1'), ('PARK2', 'PRPF6'), ('RCHY1', 'RPS15A'), ('CACNA1C', 'VCP'), ('PARK2', 'TUBB4A'), ('COPG1', 'VCP'), ('CDC23', 'PARK2'), ('AAMP', 'PARK2'), ('HSPB1', 'LRRK2'), ('MKRN1', 'MKRN1'), ('PPP1R3A', 'VCP'), ('UBXN10', 'UFD1L'), ('APP', 'PARK2'), ('PARK2', 'PGS1'), ('LTN1', 'NEMF'), ('PARK2', 'PARN'), ('LRRK2', 'TUBB'), ('UBA52', 'VCP'), ('HERPUD1', 'VCP'), ('PARK2', 'RAB1B'), ('PARK2', 'UBE2H'), ('GYG1', 'PARK2'), ('ETFB', 'PARK2'), ('UBE4B', 'VCP'), ('ESRRG', 'PARK2'), ('PARK2', 'WDR46'), ('RNF103', 'VCP'), ('CEP41', 'PARK2'), ('PARK2', 'TOM1'), ('PARK2', 'WDFY1'), ('PARK2', 'YBX1'), ('PARK2', 'PICK1'), ('PDCD6IP', 'VCP'), ('DTL', 'PARK2'), ('KRIT1', 'RCHY1'), ('RCHY1', 'RPS10'), ('DIS3L', 'HBS1L'), ('CCT6A', 'VCP'), ('PARK2', 'RUFY1'), ('GTF3C1', 'PARK2'), ('KRT9', 'VCP'), ('GZMK', 'NPLOC4'), ('RCHY1', 'RPL19'), ('MIOS', 'PARK2'), ('EPRS', 'PARK2'), ('PARK2', 'ZC3HC1'), ('EIF4A2', 'PARK2'), ('CUL2', 'GNB2L1'), ('NUP205', 'RCHY1'), ('LRRK2', 'NFATC2'), ('DDX5', 'RCHY1'), ('H3F3B', 'PARK2'), ('ARAF', 'PARK2'), ('LINC01553', 'PARK2'), ('ASCC2', 'SIRT6'), ('GNB2L1', 'PLCG1'), ('RNF220', 'UBE2D3'), ('GCDH', 'PARK2'), ('KIF2C', 'PARK2'), ('RAD23A', 'VCP'), ('CHD4', 'PARK2'), ('PARK2', 'PIAS2'), ('FAF2', 'UFD1L'), ('RCHY1', 'RPL35'), ('FBXO7', 'UBE2D3'), ('RPLP0', 'VCP'), ('KLC1', 'PARK2'), ('PARK2', 'PNN'), ('PARK2', 'RNF31'), ('TTC26', 'UFD1L'), ('RAN', 'VCP'), ('EIF4E2', 'ZNF598'), ('ACAA2', 'PARK2'), ('BTBD9', 'PARK2'), ('FKBP4', 'PARK2'), ('EPS15', 'PARK2'), ('CST5', 'PARK2'), ('KRT16', 'VCP'), ('PARK2', 'RPSA'), ('DNAJC10', 'VCP'), ('IFT88', 'VCP'), ('7-Sep', 'VCP'), ('PARK2', 'SMU1'), ('RPL8', 'ZNF598'), ('AKAP8L', 'PARK2'), ('UBA1', 'VCP'), ('PARK2', 'RCC2'), ('PARK2', 'TOR1AIP2'), ('STIP1', 'VCP'), ('PARK2', 'PM20D2'), ('DDX47', 'PARK2'), ('SMURF2', 'UBE2D3'), ('CORO1C', 'VCP'), ('RPS25', 'VCP'), ('PINK1', 'VCP'), ('P4HB', 'PARK2'), ('DHX15', 'PARK2'), ('PARK2', 'TBL2'), ('NR2F1', 'PARK2'), ('EML2', 'PARK2'), ('CSE1L', 'LRRK2'), ('HNRNPH1', 'VCP'), ('LPCAT1', 'PARK2'), ('ASCC3', 'MKRN2'), ('PARK2', 'PSMD14'), ('CASS4', 'PARK2'), ('RARS', 'VCP'), ('PARK2', 'TOP1'), ('DDX24', 'PARK2'), ('SIRT6', 'TRIP4'), ('PARK2', 'SNX6'), ('CUL4A', 'PARK2'), ('PARK2', 'TRMT10C'), ('GNB2L1', 'TRIM45'), ('PARK2', 'RPL13AP3'), ('UFD1L', 'VCP'), ('DDOST', 'VCP'), ('IGF2BP3', 'PARK2'), ('MMS19', 'PARK2'), ('PARK2', 'SYNE2'), ('DCTN4', 'PARK2'), ('PARK2', 'TLK2'), ('ANAPC11', 'UBE2D3'), ('EDC3', 'PARK2'), ('RCHY1', 'UBE2D1'), ('MIPEP', 'PARK2'), ('HBS1L', 'ZRANB1'), ('PARK2', 'PSMD4'), ('VCP', 'VPS13D'), ('DDX56', 'PARK2'), ('UFD1L', 'VIMP'), ('TRIM58', 'UBE2D3'), ('PRKACA', 'UFD1L'), ('PARK2', 'SYN1'), ('CSRP1', 'TRIP4'), ('ANKZF1', 'YWHAE'), ('NAT10', 'PARK2'), ('RCHY1', 'TUBB2B'), ('MRPS22', 'RCHY1'), ('CKAP4', 'PARK2'), ('FAM129B', 'PARK2'), ('ENO1', 'VCP'), ('PPP1CA', 'VCP'), ('PARK2', 'PSMB6'), ('FBXO43', 'VCP'), ('DYNLL1', 'GNB2L1'), ('GNB2L1', 'SMPD3'), ('GRPEL1', 'RCHY1'), ('ELAC2', 'PARK2'), ('PARK2', 'RPL19'), ('PARK2', 'PPM1F'), ('PARK2', 'UBE2A'), ('PARK2', 'PSMA1'), ('PARK2', 'RPS5'), ('RCHY1', 'SKIV2L2'), ('DDX27', 'PARK2'), ('CDC27', 'PARK2'), ('PNP', 'VCP'), ('RELA', 'UBE2D3'), ('ASCC3', 'ISG15'), ('TARDBP', 'VCP'), ('RNF146', 'UBE2D3'), ('SKP2', 'UFD1L'), ('MAP1LC3A', 'VCP'), ('PARK2', 'PSPC1'), ('ANAPC7', 'PARK2'), ('ASCC2', 'UBC'), ('PARK2', 'U2AF1'), ('CNOT4', 'TNRC6B'), ('PARK2', 'PPP2R1A'), ('MYH9', 'PARK2'), ('CAPN11', 'PARK2'), ('PARK2', 'RPS18'), ('LRRK2', 'PARK2'), ('FTSJ3', 'RCHY1'), ('ANP32B', 'RCHY1'), ('RCHY1', 'RPS7'), ('FBXL19', 'VCP'), ('EEF1A1', 'PARK2'), ('PARK2', 'PIK3C3'), ('DDB2', 'VCP'), ('PHB', 'VCP'), ('PARK2', 'PRPF3'), ('PARK2', 'XPO1'), ('PARK2', 'VAC14'), ('MCM5', 'PARK2'), ('LMNB2', 'PARK2'), ('PARK2', 'XPNPEP1'), ('P4HA2', 'PARK2'), ('NEMF', 'PARK2'), ('AGTR1', 'GNB2L1'), ('PARK2', 'SPTBN1'), ('PARK2', 'TBC1D4'), ('RPS6', 'ZNF598'), ('APRT', 'PARK2'), ('RCHY1', 'RPL35A'), ('BNIP3', 'PARK2'), ('HOXB2', 'RCHY1'), ('UBE2D3', 'UHRF1'), ('EIF4B', 'VCP'), ('PARK2', 'VDAC3'), ('PARK2', 'SEC61A1'), ('LRRK2', 'YWHAG'), ('HOXB1', 'RCHY1'), ('PARK2', 'PDE12'), ('ASCC2', 'GTPBP1'), ('RXRA', 'TRIP4'), ('FBXO4', 'PARK2'), ('PARK2', 'UFL1'), ('BIRC5', 'PARK2'), ('HERC5', 'UFD1L'), ('ASCC2', 'RAF1'), ('DARS2', 'PARK2'), ('BZW1', 'PARK2'), ('PJA1', 'UBE2D3'), ('HNRNPU', 'RCHY1'), ('NASP', 'PARK2'), ('GNB2L1', 'GNG2'), ('HOXC11', 'RCHY1'), ('GNB2L1', 'ZNF598'), ('PARK2', 'PRC1'), ('BRE', 'PARK2'), ('TRIM17', 'UBE2D3'), ('EEF1G', 'VCP'), ('PARK2', 'SGPL1'), ('AARS2', 'PARK2'), ('ACTB', 'VCP'), ('LRRK2', 'OPA1'), ('ABCE1', 'PARK2'), ('GNB2L1', 'PTPRM'), ('CNOT4', 'RBM15'), ('DHRS7B', 'PARK2'), ('AR', 'GNB2L1'), ('PARK2', 'TIMM44'), ('PARK2', 'TOMM40'), ('RPL17', 'VCP'), ('CNDP2', 'PARK2'), ('MKRN1', 'MKRN2'), ('GMPPA', 'PARK2'), ('CAV1', 'UFD1L'), ('PARK2', 'PNPLA5'), ('DNMT1', 'PARK2'), ('TRIM38', 'UBE2D3'), ('CDC42', 'VCP'), ('PARK2', 'ZNF384'), ('GPI', 'PARK2'), ('P3H1', 'PARK2'), ('MTMR6', 'PARK2'), ('CAPRIN1', 'PARK2'), ('CALM1', 'RCHY1'), ('HS2ST1', 'PARK2'), ('RPL18A', 'VCP'), ('PARK2', 'PHF6'), ('PARK2', 'PRPF4'), ('IFT74', 'UFD1L'), ('PARK2', 'RPS8'), ('ASPSCR1', 'NPLOC4'), ('PARK2', 'SLFN11'), ('HDLBP', 'PARK2'), ('MDH1', 'VCP'), ('CAPNS1', 'VCP'), ('GIGYF1', 'ZNF598'), ('PPP2CB', 'VCP'), ('GORASP2', 'PARK2'), ('NAP1L1', 'PARK2'), ('RCHY1', 'RPS11'), ('PARK2', 'TARDBP'), ('RPS18', 'VCP'), ('RAB2A', 'VCP'), ('FAM49B', 'VCP'), ('DDX52', 'PARK2'), ('PALLD', 'PARK2'), ('ANKZF1', 'PARK2'), ('MTPAP', 'PARK2'), ('MGST2', 'PARK2'), ('PARK2', 'RPL4'), ('PARK2', 'SMG7'), ('UBXN10', 'VCP'), ('BAG5', 'PARK2'), ('LRRK2', 'MBP'), ('LRRK2', 'SRPK1'), ('GABRA1', 'VCP'), ('MYBBP1A', 'RCHY1'), ('PARK2', 'STAM2'), ('RING1', 'UBE2D3'), ('DNM1', 'LRRK2'), ('HERC2', 'LRRK2'), ('CBX3', 'PARK2'), ('PARK2', 'RPL34'), ('PARK2', 'THNSL1'), ('PTGES3', 'VCP'), ('HDAC6', 'VCP'), ('MED8', 'TRIP4'), ('AP2M1', 'PARK2'), ('HSPA1A', 'UBE2D3'), ('FBXO7', 'PARK2'), ('GDAP2', 'PARK2'), ('HMBS', 'PARK2'), ('HADHA', 'PARK2'), ('PARK2', 'TOMM70A'), ('IDH3G', 'PARK2'), ('NUB1', 'VCP'), ('FBXL18', 'PARK2'), ('RHBDL3', 'VCP'), ('RCHY1', 'RPL24'), ('SHOC2', 'VCP'), ('GNB2L1', 'RAF1'), ('FARSB', 'PARK2'), ('LDHB', 'PARK2'), ('RNF19B', 'UBE2D3'), ('UBXN6', 'VCP'), ('TGFBR2', 'UFD1L'), ('PARK2', 'PRPF40A'), ('PARK2', 'VPS16'), ('BECN1', 'PARK2'), ('KIF3B', 'PARK2'), ('PARK2', 'TUBAL3'), ('EEA1', 'VCP'), ('BIRC2', 'UBE2D3'), ('DHX9', 'PARK2'), ('CISH', 'GNB2L1'), ('BIRC5', 'UFD1L'), ('MED1', 'PARK2'), ('PARK2', 'TSSC1'), ('PARK2', 'RTF1'), ('PSMA4', 'VCP'), ('PARK2', 'RPL22'), ('RCHY1', 'RCHY1'), ('GNB2L1', 'IGF1R'), ('PTRH1', 'UBE2O'), ('PARK2', 'UGDH'), ('GSR', 'VCP'), ('NBN', 'VCP'), ('BTF3', 'GNB2L1'), ('PARK2', 'RAN'), ('GTF2H2', 'PARK2'), ('RCHY1', 'RPS3A'), ('GSPT1', 'VCP'), ('EIF2S3', 'PARK2'), ('PARK2', 'TES'), ('GLUL', 'NPLOC4'), ('PSMD2', 'UFD1L'), ('CTNNA1', 'PARK2'), ('CANX', 'PARK2'), ('NKRF', 'RCHY1'), ('IQCB1', 'PARK2'), ('JMJD6', 'PARK2'), ('ABI2', 'PARK2'), ('SPRTN', 'UFD1L'), ('PARK2', 'PTGES3'), ('CCNT1', 'PARK2'), ('RPL35', 'VCP'), ('DYNC1H1', 'VCP'), ('CLASP2', 'PARK2'), ('KEAP1', 'PARK2'), ('ASCC2', 'ASCC3'), ('PARK2', 'RHOT1'), ('PARK2', 'SIN3A'), ('CCT3', 'PARK2'), ('CASR', 'VCP'), ('RCHY1', 'YY1'), ('LPCAT2', 'PARK2'), ('CIT', 'PARK2'), ('RARA', 'VCP'), ('PARK2', 'UBE2Z'), ('CIAO1', 'PARK2'), ('OAT', 'PARK2'), ('PARK2', 'ZNF768'), ('FAF1', 'VCP'), ('PABPC1', 'VCP'), ('GNB2L1', 'KCNA5'), ('KRT18', 'RCHY1'), ('HAUS4', 'PARK2'), ('GNB2L1', 'SREK1'), ('CYP51A1', 'PARK2'), ('PARK2', 'RPL18'), ('IQGAP1', 'VCP'), ('VCP', 'ZFAND2B'), ('CNOT4', 'UBQLN2'), ('RPLP2', 'VCP'), ('PARK2', 'YTHDC1'), ('AIFM1', 'RCHY1'), ('BCKDHA', 'PARK2'), ('GNB2L1', 'OLA1'), ('AMFR', 'UFD1L'), ('PARK2', 'UBE2T'), ('PARK2', 'TPP2'), ('PARK2', 'PRKACB'), ('PARK2', 'PARK7'), ('ACTN4', 'PARK2'), ('PARK2', 'RFC1'), ('HOXA2', 'RCHY1'), ('HSPD1', 'RCHY1'), ('PARK2', 'TFG'), ('PARK2', 'RPS9'), ('UBE2D3', 'XIAP'), ('MFN2', 'PARK2'), ('PARK2', 'RHOT2'), ('PARK2', 'TRAF6'), ('UBC', 'VCP'), ('CCNB1', 'PARK2'), ('DNAJA1', 'VCP'), ('ASPH', 'VCP'), ('NOP2', 'PARK2'), ('LAMP2', 'VCP'), ('PARK2', 'PTCD3'), ('LBR', 'PARK2'), ('GNB2L1', 'USP11'), ('GFPT1', 'PARK2'), ('GNB2L1', 'NANOG'), ('PPP4C', 'UBE2D3'), ('LMNB1', 'PARK2'), ('RCHY1', 'VPRBP'), ('CNOT4', 'PARK2'), ('FARSA', 'PARK2'), ('CSTF1', 'VCP'), ('PARK2', 'PRPSAP1'), ('MED11', 'TRIP4'), ('NPLOC4', 'SMURF1'), ('AIMP2', 'GNB2L1'), ('PARK2', 'TRAF1'), ('PARK2', 'WDHD1'), ('PPP2R1A', 'VCP'), ('ASCC2', 'TULP3'), ('GNB2L1', 'IL4R'), ('COX3', 'PARK2'), ('NAE1', 'PARK2'), ('PARK2', 'TLE1'), ('PARK2', 'RBM14'), ('RCHY1', 'RPL6'), ('CTNND1', 'PARK2'), ('CTSD', 'VCP'), ('PARK2', 'SLU7'), ('LEMD2', 'PARK2'), ('CCT4', 'PARK2'), ('NPLOC4', 'ST7'), ('GRN', 'PARK2'), ('LARS2', 'PARK2'), ('PARK2', 'TUBB'), ('RCHY1', 'RPL23'), ('PARK2', 'STK26'), ('RCHY1', 'RPS14'), ('RANGAP1', 'RCHY1'), ('ACO1', 'PARK2'), ('PARK2', 'ZC3H7A'), ('PARK2', 'VPS36'), ('SVIP', 'UFD1L'), ('ACTB', 'LRRK2'), ('ITCH', 'LRRK2'), ('ABCB7', 'PARK2'), ('DDX39A', 'PARK2'), ('GTPBP4', 'RCHY1'), ('POLL', 'UBE2D3'), ('AIMP2', 'PARK2'), ('IDH3A', 'PARK2'), ('PARK2', 'UBXN6'), ('LRRC71', 'PARK2'), ('DEK', 'PARK2'), ('GNB2L1', 'NR3C1'), ('EHD4', 'PARK2'), ('ARHGAP1', 'PARK2'), ('TERT', 'UBE2D3'), ('P4HB', 'VCP'), ('DHX15', 'VCP'), ('PARK2', 'RPS3'), ('CDC42', 'LRRK2'), ('PARK2', 'SUPT6H'), ('RCOR1', 'TRIP4'), ('KRT1', 'VCP'), ('HIF1A', 'VCP'), ('UBE2D3', 'WWP2'), ('HERC5', 'VCP'), ('PARK2', 'RPL14'), ('UBE2D3', 'WWP1'), ('PARK2', 'TRIM21'), ('TRIM56', 'TRIP4'), ('HSPA1B', 'VCP'), ('EDF1', 'UBE2I'), ('GSTP1', 'PARK2'), ('EIF3CL', 'VCP'), ('BRCA1', 'VCP'), ('CTNNB1', 'PARK2'), ('NCOA1', 'VCP'), ('SH2D1A', 'VCP'), ('DTX3', 'GNB2L1'), ('PARK2', 'TUBG1'), ('GNAS', 'PARK2'), ('PARK2', 'PLK1'), ('KRT14', 'VCP'), ('DNPEP', 'PARK2'), ('STAU1', 'ZNF598'), ('EXOSC4', 'HBS1L'), ('PARK2', 'POLR2B'), ('PARK2', 'SLC25A4'), ('PJA2', 'UBE2D3'), ('CAMK2A', 'PARK2'), ('CAV1', 'VCP'), ('PAPSS1', 'PARK2'), ('G6PD', 'PARK2'), ('BAG6', 'VCP'), ('KRR1', 'PARK2'), ('COX2', 'PARK2'), ('RCHY1', 'RPN1'), ('RPL13', 'VCP'), ('UBA6', 'UBE2D3'), ('KPNA6', 'PARK2'), ('CTNNBL1', 'PARK2'), ('EP300', 'PELO'), ('ADRB2', 'VCP'), ('METAP1', 'PARK2'), ('NCL', 'RCHY1'), ('ALDH3A2', 'PARK2'), ('SH2D2A', 'VCP'), ('GNB2L1', 'PPID'), ('PLAGL2', 'RCHY1'), ('HDAC5', 'VCP'), ('RCHY1', 'RPS15'), ('HDAC6', 'LRRK2'), ('RCHY1', 'RPL3'), ('U2AF2', 'VCP'), ('PARK2', 'WBSCR16'), ('IGF2BP1', 'MKRN1'), ('HSPA1A', 'PARK2'), ('DERL1', 'VCP'), ('FKRP', 'PARK2'), ('PARK2', 'RBBP7'), ('TRIM32', 'UBE2D3'), ('PARK2', 'RAB7A'), ('DIO2', 'VCP'), ('HELLS', 'PARK2'), ('MRPS30', 'PARK2'), ('PARK2', 'RBPJ'), ('PARK2', 'XRCC6'), ('PARK2', 'SLC16A1'), ('ATP5B', 'PARK2'), ('PARK2', 'PTCD1'), ('LSG1', 'PARK2'), ('LSS', 'PARK2'), ('HIST4H4', 'VCP'), ('PYGB', 'VCP'), ('EWSR1', 'PARK2'), ('HYPK', 'NEMF'), ('PARK2', 'RPL6'), ('VAPB', 'VCP'), ('LRRK2', 'MDN1'), ('PARK2', 'SPCS3'), ('NUDCD1', 'PARK2'), ('BIRC2', 'PARK2'), ('GAK', 'LRRK2'), ('BRIX1', 'RCHY1'), ('FUBP3', 'PARK2'), ('OSBPL8', 'PARK2'), ('RCHY1', 'RPL17'), ('PARK2', 'TRIM26'), ('DNAJB1', 'VCP'), ('MAPKAPK2', 'PARK2'), ('PARK2', 'UBXN1'), ('HSP90AA1', 'TCF25'), ('PARK2', 'PGM3'), ('PARK2', 'WDR12'), ('DCAF7', 'PARK2'), ('ISG15', 'UBE2D3'), ('ACO2', 'PARK2'), ('PARK2', 'PPP2R2A'), ('DECR1', 'VCP'), ('PARK2', 'THUMPD3'), ('AHNAK', 'PARK2'), ('PARK2', 'PPP3CA'), ('LRRK2', 'WSB1'), ('CCND2', 'PARK2'), ('PARK2', 'SF3A2'), ('DYNC1H1', 'LRRK2'), ('TP53', 'VCP'), ('ACSF3', 'PARK2'), ('AP3D1', 'PARK2'), ('ARHGEF1', 'PARK2'), ('CSF2RB', 'GNB2L1'), ('LINC01139', 'LRRK2'), ('TRIM55', 'UBE2D3'), ('PARK2', 'SNX2'), ('PARK2', 'SQSTM1'), ('LRRK2', 'MAP2K6'), ('NPM1', 'VCP'), ('PARK2', 'UPF1'), ('FEN1', 'PARK2'), ('G3BP2', 'PARK2'), ('PARK2', 'UBE2B'), ('CAPN2', 'PARK2'), ('MKRN1', 'RPS10'), ('PARK2', 'TAF6L'), ('UBE2J1', 'VCP'), ('ABCE1', 'VCP'), ('IQGAP1', 'LRRK2'), ('MCM6', 'PARK2'), ('TAGLN2', 'VCP'), ('PARK2', 'PCID2'), ('BUB3', 'PARK2'), ('RAC2', 'VCP'), ('MRPS9', 'PARK2'), ('DDB1', 'RCHY1'), ('PARK2', 'PMS2'), ('RCHY1', 'RPS13'), ('RCHY1', 'SF3B2'), ('AP2A1', 'PARK2'), ('HSPD1', 'PARK2'), ('ELAVL1', 'VCP'), ('GNB2L1', 'STAT1'), ('MSH4', 'VCP'), ('MTHFD1', 'RCHY1'), ('NOP56', 'PARK2'), ('PTPRO', 'VCP'), ('PARK2', 'ZC3H15'), ('PARK2', 'RPN1'), ('PGM2', 'VCP'), ('AHSG', 'PARK2'), ('AKT1', 'VCP'), ('MIB1', 'UBE2D3'), ('PARK2', 'ZC3H18'), ('HDLBP', 'TRIP4'), ('DNAJA1', 'LRRK2'), ('RCHY1', 'SET'), ('PARK2', 'RPL3'), ('PARK2', 'PDIA4'), ('GNB2L1', 'PIK3R1'), ('GBE1', 'PARK2'), ('MID1', 'UBE2D3'), ('AMFR', 'VCP'), ('PARK2', 'RPL32'), ('EEF2', 'PARK2'), ('RAB11A', 'VCP'), ('PARK2', 'PREPL'), ('ALDH6A1', 'PARK2'), ('GNL3', 'PARK2'), ('VCAM1', 'VCP'), ('PARK2', 'SRPR'), ('TRIM10', 'UBE2D3'), ('LTN1', 'UBE2D2'), ('FBXO6', 'VCP'), ('BTRC', 'NPLOC4'), ('FBXO32', 'NPLOC4'), ('RCHY1', 'RPL8'), ('PARK2', 'PRKAA1'), ('BLM', 'PARK2'), ('UBE2V1', 'VCP'), ('MKRN2', 'PARK2'), ('PARK2', 'PCCB'), ('RCHY1', 'RPL18A'), ('PARK2', 'PSMC1'), ('KATNB1', 'PARK2'), ('ASCC2', 'CSRP1'), ('HLA-A', 'PARK2'), ('TRIM7', 'UBE2D3'), ('MAPK8', 'PARK2'), ('PARK2', 'PTPN1'), ('CDC34', 'UBE2D3'), ('RABGEF1', 'UBE2D3'), ('DDX19A', 'PARK2'), ('NUP160', 'RCHY1'), ('GNB2L1', 'RHBDF1'), ('ASCC3', 'FXR2'), ('PLS3', 'VCP'), ('GMPS', 'PARK2'), ('PARK2', 'SWAP70'), ('ESRRA', 'PARK2'), ('RCHY1', 'RTCB'), ('PARK2', 'RBMX'), ('UGDH', 'VCP'), ('PARK2', 'SUCLA2'), ('UBXN8', 'UFD1L'), ('GPR112', 'PARK2'), ('PARK2', 'TTK'), ('FARSB', 'VCP'), ('PARK2', 'PSMC4'), ('LDHB', 'VCP'), ('LRRK2', 'STK25'), ('GRIN2B', 'PARK2'), ('HNRNPF', 'PARK2'), ('C9orf72', 'PARK2'), ('RHOB', 'VCP'), ('USP13', 'VCP'), ('PARK2', 'UMPS'), ('PELO', 'SRPX'), ('FAR1', 'PARK2'), ('BARD1', 'GNB2L1'), ('CXCL8', 'ZNF598'), ('CBX8', 'GNB2L1'), ('HSP90AA1', 'PARK2'), ('CPNE3', 'PARK2'), ('PARK2', 'SHMT1'), ('CAMK2D', 'PARK2'), ('ABCF1', 'PARK2'), ('HIF1A', 'LRRK2'), ('CDH26', 'PARK2'), ('ATG5', 'GNB2L1'), ('PARK2', 'RBM25'), ('RCHY1', 'TCERG1'), ('RHOC', 'VCP'), ('ALDH16A1', 'PARK2'), ('SVIP', 'VCP'), ('HSDL2', 'PARK2'), ('EIF2B1', 'PARK2'), ('HIST1H3A', 'RCHY1'), ('PARK2', 'PSMC3'), ('PARK2', 'PCK2'), ('KEAP1', 'VCP'), ('MDM4', 'RCHY1'), ('RNF41', 'UBE2D3'), ('RHOA', 'VCP'), ('PARK2', 'TRAF2'), ('PACSIN2', 'PARK2'), ('HYOU1', 'VCP'), ('DNAJA2', 'PARK2'), ('HNRNPA3', 'PARK2'), ('UBE2D3', 'UBR5'), ('MAP4K4', 'PARK2'), ('MAP2', 'PARK2'), ('PARK2', 'UGGT1'), ('CDC5L', 'PARK2'), ('ACADVL', 'PARK2'), ('SQSTM1', 'UBE2D3'), ('CDC37', 'PARK2'), ('RCHY1', 'UBTF'), ('HSPA8', 'PARK2'), ('PA2G4', 'PARK2'), ('GBA', 'PARK2'), ('GEMIN5', 'PARK2'), ('MRPS15', 'RCHY1'), ('HSPA5', 'VCP'), ('UBAP2L', 'ZNF598'), ('TES', 'VCP'), ('PARK2', 'RHOG'), ('PARK2', 'PHB2'), ('TRIM50', 'UBE2D3'), ('C1QBP', 'PARK2'), ('PSMA6', 'VCP'), ('FBXL2', 'UBE2D3'), ('NPLOC4', 'UBXN6'), ('PARK2', 'USP30'), ('CCT8', 'VCP'), ('MARCKS', 'VCP'), ('ANXA10', 'VCP'), ('AFG3L2', 'PARK2'), ('PARK2', 'STOML2'), ('PARK2', 'PIGK'), ('ASCC3', 'PAIP1'), ('DDX1', 'RCHY1'), ('PARP1', 'VCP'), ('PSMD14', 'VCP'), ('OLA1', 'PARK2'), ('GNB2L1', 'GRIN2B'), ('PARK2', 'PRCP'), ('LRRK2', 'LRRK2'), ('BAX', 'PARK2'), ('PARK2', 'ZKSCAN1'), ('STAM2', 'UBE2D3'), ('NFKB1', 'UBE2D3'), ('NPLOC4', 'SVIP'), ('NPLOC4', 'ZRANB1'), ('RCHY1', 'UBC'), ('NUP85', 'PARK2'), ('FAF2', 'NPLOC4'), ('PARK2', 'UBE2R2'), ('EDF1', 'TBP'), ('CNOT4', 'ZFP36'), ('CYFIP1', 'PARK2'), ('ASCC3', 'RPS3'), ('PHB2', 'VCP'), ('BRD2', 'PARK2'), ('MAGED2', 'PARK2'), ('NOD2', 'PARK2'), ('FBXO2', 'VCP'), ('PARK2', 'XAB2'), ('DHX40', 'PARK2'), ('LRRK2', 'PPP2R1A'), ('ACAD9', 'PARK2'), ('TRA', 'VCP'), ('LTN1', 'SLFN11'), ('GNB2L1', 'PRKCE'), ('PARK2', 'UBASH3B'), ('MFN1', 'PARK2'), ('IDE', 'PARK2'), ('GNB2L1', 'IFNAR2'), ('PARK2', 'PRKCD'), ('GNB2L1', 'TNFRSF11A'), ('BMI1', 'UBE2D3'), ('PARK2', 'PTPN11'), ('CALU', 'PARK2'), ('RCHY1', 'RPS4X'), ('PARK2', 'YARS2'), ('CUL4B', 'UBE2D3'), ('SELK', 'VCP'), ('PPP2CA', 'VCP'), ('RCHY1', 'VIM'), ('RCHY1', 'RPL15'), ('RCHY1', 'RFWD2'), ('GNB2L1', 'TRIM31'), ('GNB2L1', 'USP41'), ('RNF2', 'UBE2D3'), ('MRPS27', 'PARK2'), ('EDF1', 'NR5A1'), ('ASS1', 'PARK2'), ('DDB1', 'PARK2'), ('ERLIN1', 'PARK2'), ('UBE2D3', 'UVSSA'), ('PARK2', 'RPS6KA1'), ('PARK2', 'YWHAB'), ('KCTD9', 'VCP'), ('PARK2', 'PHB'), ('PARK2', 'TMTC3'), ('UBA2', 'VCP'), ('CTBP1', 'PARK2'), ('ASCC2', 'TRIM56'), ('PARK2', 'TRMT1'), ('L3MBTL1', 'VCP'), ('PARK2', 'TRIM25'), ('UBE2D3', 'UBTD1'), ('EDF1', 'RAF1'), ('RFFL', 'UBE2D3'), ('HDAC2', 'RCHY1'), ('EXOC4', 'PARK2'), ('RCHY1', 'SIRT1'), ('GNB2L1', 'SAT1'), ('PARK2', 'PNPT1'), ('PARK2', 'SEC24A'), ('LRRK2', 'PRKDC'), ('AKT1', 'LRRK2'), ('PARK2', 'SERPINB6'), ('EP300', 'GNB2L1'), ('RCHY1', 'RPL13'), ('MYLIP', 'UBE2D3'), ('EIF3E', 'PARK2'), ('PCGF2', 'UBE2D3'), ('PARK2', 'TRMT1L'), ('UNK', 'ZNF598'), ('DNM1L', 'VCP'), ('MED25', 'TRIP4'), ('AGO2', 'PARK2'), ('EDF1', 'RXRA'), ('OSBPL9', 'PARK2'), ('UBE2D3', 'UBE2O'), ('NPLOC4', 'UBXN1'), ('ARRB1', 'PARK2'), ('GART', 'PARK2'), ('GORAB', 'RCHY1'), ('ADPGK', 'PARK2'), ('ABCF2', 'PARK2'), ('YTHDF3', 'ZNF598'), ('MBNL2', 'PARK2'), ('PARK2', 'PLOD2'), ('PABPC1', 'RCHY1'), ('PARK2', 'SUN1'), ('DDX20', 'PARK2'), ('GNL2', 'PARK2'), ('JUN', 'TRIP4'), ('VCP', 'WRN'), ('PARK2', 'RCN2'), ('LRRK2', 'RPS8'), ('GALK1', 'PARK2'), ('PARK2', 'TRIP6'), ('BAG2', 'PARK2'), ('PARK2', 'PSMD13'), ('ALDH3A2', 'VCP'), ('PARK2', 'UBLCP1'), ('DHX36', 'PARK2'), ('DDX3X', 'VCP'), ('TRIM11', 'UBE2D3'), ('GNB2L1', 'PRKAB2'), ('PARK2', 'WDR77'), ('DDX46', 'PARK2'), ('CDC34', 'PARK2'), ('ASCC3', 'STAU1'), ('PARK2', 'XRN1'), ('PELP1', 'RCHY1'), ('HSP90B1', 'PARK2'), ('CCNA1', 'PARK2'), ('HMGCR', 'VCP'), ('CNOT4', 'UBE2E3'), ('UFD1L', 'USP13'), ('NT5DC4', 'PARK2'), ('ATP5F1', 'PARK2'), ('PARK2', 'TTLL12'), ('LDHA', 'PARK2'), ('PARK2', 'PSMD2'), ('PARK2', 'TLN1'), ('DNAJA1', 'RCHY1'), ('POLM', 'UBE2D3'), ('RHOD', 'VCP'), ('TOPORS', 'UBE2D3'), ('PARK2', 'SPTBN5'), ('PARK2', 'SPATA5'), ('DHX37', 'PARK2'), ('LRRK2', 'RAB5B'), ('ARCN1', 'PARK2'), ('APOA1BP', 'PARK2'), ('GNB2L1', 'PABPC1'), ('RCHY1', 'RPS2'), ('CUL2', 'UBE2D3')}\n"
          ]
        }
      ]
    },
    {
      "cell_type": "code",
      "source": [
        "RQC = [\"MKRN1\", \"UBE2D3\", \"EDF1\", \"GNB2L1\", \"ZNF598\", \"CNOT4\", \"HBS1L\", \"ASCC1\", \"ASCC2\", \"ASCC3\", \"PELO\", \"NEMF\", \"KLHDC10\", \"LTN1\", \"RCHY1\", \"C12orf65\", \"C6orf203\", \"EFD1L\", \"VCP\", \"NPLOC4\", \"TCF25\", \"ANKZF1\"]"
      ],
      "metadata": {
        "id": "wglh-aY_s8Q3"
      },
      "execution_count": 156,
      "outputs": []
    },
    {
      "cell_type": "code",
      "source": [
        "#PARK RQC\n",
        "for interaction in my_set:\n",
        "  if \"PARK2\" in interaction:\n",
        "    if interaction[(interaction.index('PARK2') + 1) % len(interaction)] in RQC:\n",
        "      print(interaction)\n",
        "\n"
      ],
      "metadata": {
        "colab": {
          "base_uri": "https://localhost:8080/"
        },
        "id": "OgODY0rgs3Z2",
        "outputId": "4bde40b3-2108-44ee-cb20-d70971179cd8"
      },
      "execution_count": 157,
      "outputs": [
        {
          "output_type": "stream",
          "name": "stdout",
          "text": [
            "('PARK2', 'VCP')\n",
            "('GNB2L1', 'PARK2')\n",
            "('PARK2', 'PELO')\n",
            "('HBS1L', 'PARK2')\n",
            "('PARK2', 'UBE2D3')\n",
            "('PARK2', 'TCF25')\n",
            "('NPLOC4', 'PARK2')\n",
            "('NEMF', 'PARK2')\n",
            "('ANKZF1', 'PARK2')\n",
            "('CNOT4', 'PARK2')\n"
          ]
        }
      ]
    },
    {
      "cell_type": "code",
      "source": [
        "RQC = [\"MKRN1\", \"UBE2D3\", \"EDF1\", \"GNB2L1\", \"ZNF598\", \"CNOT4\", \"HBS1L\", \"ASCC1\", \"ASCC2\", \"ASCC3\", \"PELO\", \"NEMF\", \"KLHDC10\", \"LTN1\", \"RCHY1\", \"C12orf65\", \"C6orf203\", \"UFD1L\", \"VCP\", \"NPLOC4\", \"TCF25\", \"ANKZF1\"]\n",
        "new_set = set()\n",
        "for i in my_set:\n",
        "  v = list()\n",
        "  for n in i:\n",
        "    if n in RQC:\n",
        "      n = \"RQC\"\n",
        "    v.append(n)\n",
        "  new_set.add(tuple(v))\n"
      ],
      "metadata": {
        "id": "PhlhKcr2eSKp"
      },
      "execution_count": 150,
      "outputs": []
    },
    {
      "cell_type": "code",
      "source": [
        "new_set = [tuple(sorted(pair)) for pair in new_set]\n",
        "new_set = set(new_set)"
      ],
      "metadata": {
        "id": "Kaq2YHNlQJki"
      },
      "execution_count": 158,
      "outputs": []
    },
    {
      "cell_type": "code",
      "source": [
        "len(new_set)"
      ],
      "metadata": {
        "colab": {
          "base_uri": "https://localhost:8080/"
        },
        "id": "pLoH7yoFsQFY",
        "outputId": "e6aefb6e-3f0f-46cd-a6ed-ef4f3820d356"
      },
      "execution_count": 144,
      "outputs": [
        {
          "output_type": "execute_result",
          "data": {
            "text/plain": [
              "2980"
            ]
          },
          "metadata": {},
          "execution_count": 144
        }
      ]
    },
    {
      "cell_type": "code",
      "source": [
        "i = 0\n",
        "for interaction in new_set:\n",
        "  if \"RQC\" in interaction:\n",
        "    i += 1\n",
        "    #print(interaction)\n",
        "print(i)"
      ],
      "metadata": {
        "colab": {
          "base_uri": "https://localhost:8080/"
        },
        "id": "QFH4Gn5UNf14",
        "outputId": "ab908142-dda1-46cb-dc65-dbf4e80df429"
      },
      "execution_count": 145,
      "outputs": [
        {
          "output_type": "stream",
          "name": "stdout",
          "text": [
            "1111\n"
          ]
        }
      ]
    },
    {
      "cell_type": "code",
      "source": [
        "LRRK2_interactors = []\n",
        "for interaction in new_set:\n",
        "  if \"LRRK2\" in interaction:\n",
        "    LRRK2_interactors.append(interaction[(interaction.index('LRRK2') + 1) % len(interaction)])\n",
        "\n"
      ],
      "metadata": {
        "id": "ERsA21e8NqRI"
      },
      "execution_count": 281,
      "outputs": []
    },
    {
      "cell_type": "code",
      "source": [
        "len(LRRK2_interactors)"
      ],
      "metadata": {
        "colab": {
          "base_uri": "https://localhost:8080/"
        },
        "id": "AjXIX4vIrnn2",
        "outputId": "02e801ad-cdc5-43e7-9047-48de3496c464"
      },
      "execution_count": 287,
      "outputs": [
        {
          "output_type": "execute_result",
          "data": {
            "text/plain": [
              "110"
            ]
          },
          "metadata": {},
          "execution_count": 287
        }
      ]
    },
    {
      "cell_type": "code",
      "source": [
        "LRRK2_interactors.remove(\"PARK2\")\n",
        "LRRK2_interactors.remove(\"LRRK2\")"
      ],
      "metadata": {
        "id": "umHmxAlqUkd0"
      },
      "execution_count": 286,
      "outputs": []
    },
    {
      "cell_type": "code",
      "source": [
        "i = 0\n",
        "LRRK2andRQC = []\n",
        "for LRRK2_interaction in sorted(LRRK2_interactors):\n",
        "  if (LRRK2_interaction, \"RQC\") in new_set or (\"RQC\", LRRK2_interaction) in new_set:\n",
        "    i += 1\n",
        "    print((LRRK2_interaction, \"RQC\"))\n",
        "    LRRK2andRQC.append(LRRK2_interaction)\n",
        "print(i)"
      ],
      "metadata": {
        "colab": {
          "base_uri": "https://localhost:8080/"
        },
        "id": "6CR9LoC-t_0U",
        "outputId": "f45bfb12-4547-4345-e960-0929d2f36846"
      },
      "execution_count": 310,
      "outputs": [
        {
          "output_type": "stream",
          "name": "stdout",
          "text": [
            "('ACTB', 'RQC')\n",
            "('AGO1', 'RQC')\n",
            "('AKT1', 'RQC')\n",
            "('APP', 'RQC')\n",
            "('ATP2A2', 'RQC')\n",
            "('BAG5', 'RQC')\n",
            "('CDC42', 'RQC')\n",
            "('DNAJA1', 'RQC')\n",
            "('DNM1L', 'RQC')\n",
            "('DYNC1H1', 'RQC')\n",
            "('EEF1A1', 'RQC')\n",
            "('FADD', 'RQC')\n",
            "('HDAC6', 'RQC')\n",
            "('HERC2', 'RQC')\n",
            "('HIF1A', 'RQC')\n",
            "('HSP90AA1', 'RQC')\n",
            "('HSP90AB1', 'RQC')\n",
            "('HSPA1A', 'RQC')\n",
            "('HSPA4', 'RQC')\n",
            "('HSPA8', 'RQC')\n",
            "('HSPA9', 'RQC')\n",
            "('HSPB1', 'RQC')\n",
            "('HSPD1', 'RQC')\n",
            "('HSPH1', 'RQC')\n",
            "('IQGAP1', 'RQC')\n",
            "('ITCH', 'RQC')\n",
            "('MAP2K6', 'RQC')\n",
            "('MAPT', 'RQC')\n",
            "('MFN2', 'RQC')\n",
            "('MID2', 'RQC')\n",
            "('PPP2R1A', 'RQC')\n",
            "('RAC1', 'RQC')\n",
            "('RHOA', 'RQC')\n",
            "('RPL23', 'RQC')\n",
            "('RPS8', 'RQC')\n",
            "('SQSTM1', 'RQC')\n",
            "('STUB1', 'RQC')\n",
            "('TP53', 'RQC')\n",
            "('TUBA1C', 'RQC')\n",
            "('TUBB', 'RQC')\n",
            "('VIM', 'RQC')\n",
            "('WSB1', 'RQC')\n",
            "('YWHAE', 'RQC')\n",
            "('YWHAG', 'RQC')\n",
            "('YWHAZ', 'RQC')\n",
            "45\n"
          ]
        }
      ]
    },
    {
      "cell_type": "code",
      "source": [
        "PARK2_interactors = []\n",
        "for interaction in new_set:\n",
        "  if \"PARK2\" in interaction:\n",
        "    PARK2_interactors.append(interaction[(interaction.index('PARK2') + 1) % len(interaction)])"
      ],
      "metadata": {
        "id": "rQqmRy18iy1d"
      },
      "execution_count": 289,
      "outputs": []
    },
    {
      "cell_type": "code",
      "source": [
        "len(PARK2_interactors)"
      ],
      "metadata": {
        "colab": {
          "base_uri": "https://localhost:8080/"
        },
        "id": "f1p57Cekhfb-",
        "outputId": "135ad6a9-8f10-4341-b743-e5ebd70c6437"
      },
      "execution_count": 292,
      "outputs": [
        {
          "output_type": "execute_result",
          "data": {
            "text/plain": [
              "1671"
            ]
          },
          "metadata": {},
          "execution_count": 292
        }
      ]
    },
    {
      "cell_type": "code",
      "source": [
        "PARK2_interactors.remove(\"PARK2\")\n",
        "PARK2_interactors.remove(\"LRRK2\")"
      ],
      "metadata": {
        "id": "kLdxUSZ9U3X9"
      },
      "execution_count": 291,
      "outputs": []
    },
    {
      "cell_type": "code",
      "source": [
        "i = 0\n",
        "for PARK2_interaction in PARK2_interactors:\n",
        "  if (PARK2_interaction, \"RQC\") in new_set or (\"RQC\", PARK2_interaction) in new_set:\n",
        "    i += 1\n",
        "    #print((PARK2_interaction, \"RQC\"))\n",
        "print(i)"
      ],
      "metadata": {
        "colab": {
          "base_uri": "https://localhost:8080/"
        },
        "id": "FL3Xd6zBt44J",
        "outputId": "ed2599ff-c374-4a64-f440-c30aab65a080"
      },
      "execution_count": 311,
      "outputs": [
        {
          "output_type": "stream",
          "name": "stdout",
          "text": [
            "450\n"
          ]
        }
      ]
    },
    {
      "cell_type": "code",
      "source": [
        "i = 0\n",
        "for PARK2_interaction in PARK2_interactors:\n",
        "  if (PARK2_interaction, \"LRRK2\") in new_set or (\"LRRK2\", PARK2_interaction) in new_set:\n",
        "    i += 1\n",
        "    #print((PARK2_interaction, \"LRRK2\"))\n",
        "print(i)\n"
      ],
      "metadata": {
        "colab": {
          "base_uri": "https://localhost:8080/"
        },
        "id": "FlKl1b9sf8wT",
        "outputId": "c02b09db-6ec9-417b-cd1b-397d50368867"
      },
      "execution_count": 312,
      "outputs": [
        {
          "output_type": "stream",
          "name": "stdout",
          "text": [
            "54\n"
          ]
        }
      ]
    },
    {
      "cell_type": "code",
      "source": [
        "RQC_interactors = []\n",
        "for interaction in new_set:\n",
        "  if \"RQC\" in interaction:\n",
        "    RQC_interactors.append(interaction[(interaction.index('RQC') + 1) % len(interaction)])"
      ],
      "metadata": {
        "id": "-uRXNgnuDaGo"
      },
      "execution_count": 169,
      "outputs": []
    },
    {
      "cell_type": "code",
      "source": [
        "len(RQC_interactors)"
      ],
      "metadata": {
        "colab": {
          "base_uri": "https://localhost:8080/"
        },
        "id": "TcPr7I77Dfxl",
        "outputId": "4bc0f543-f076-4149-ac2d-f46e18be5a45"
      },
      "execution_count": 295,
      "outputs": [
        {
          "output_type": "execute_result",
          "data": {
            "text/plain": [
              "1110"
            ]
          },
          "metadata": {},
          "execution_count": 295
        }
      ]
    },
    {
      "cell_type": "code",
      "source": [
        "RQC_interactors.remove(\"PARK2\")"
      ],
      "metadata": {
        "id": "tFyYk59pVAXP"
      },
      "execution_count": 294,
      "outputs": []
    },
    {
      "cell_type": "code",
      "source": [
        "i = 0\n",
        "for RQC_interaction in RQC_interactors:\n",
        "  if (RQC_interaction, \"LRRK2\") in new_set or (\"LRRK2\", RQC_interaction) in new_set:\n",
        "    i += 1\n",
        "    #print((PARK2_interaction, \"LRRK2\"))\n",
        "print(i)"
      ],
      "metadata": {
        "colab": {
          "base_uri": "https://localhost:8080/"
        },
        "id": "1L0ysOEUiPAC",
        "outputId": "e107b32b-7ba3-40b9-d8bd-fde02999abde"
      },
      "execution_count": 296,
      "outputs": [
        {
          "output_type": "stream",
          "name": "stdout",
          "text": [
            "45\n"
          ]
        }
      ]
    },
    {
      "cell_type": "code",
      "source": [
        "#triple interseccion\n",
        "i = 0\n",
        "for LRRK2RQC_interaction in LRRK2andRQC:\n",
        "  if (LRRK2RQC_interaction, \"PARK2\") in new_set or (\"PARK2\", LRRK2RQC_interaction) in new_set:\n",
        "    i += 1\n",
        "    #print((PARK2_interaction, \"LRRK2\"))\n",
        "print(i)\n"
      ],
      "metadata": {
        "colab": {
          "base_uri": "https://localhost:8080/"
        },
        "id": "hw0hjLckgvCz",
        "outputId": "d4f169d0-b3fb-4a2e-ad35-9a0c45f4f4f7"
      },
      "execution_count": 297,
      "outputs": [
        {
          "output_type": "stream",
          "name": "stdout",
          "text": [
            "33\n"
          ]
        }
      ]
    },
    {
      "cell_type": "code",
      "source": [
        "1671-21-33-417"
      ],
      "metadata": {
        "colab": {
          "base_uri": "https://localhost:8080/"
        },
        "id": "Z3puepR9WQbp",
        "outputId": "fdab9a7b-645d-4582-a5a5-51271604c234"
      },
      "execution_count": 348,
      "outputs": [
        {
          "output_type": "execute_result",
          "data": {
            "text/plain": [
              "1200"
            ]
          },
          "metadata": {},
          "execution_count": 348
        }
      ]
    },
    {
      "cell_type": "code",
      "source": [
        "a = 44\n",
        "b = 21\n",
        "c = 33\n",
        "d = 12\n",
        "e = 648\n",
        "f = 417\n",
        "g = 1200"
      ],
      "metadata": {
        "id": "Ru5TetsUEX0-"
      },
      "execution_count": 349,
      "outputs": []
    },
    {
      "cell_type": "code",
      "source": [
        "a+b+c+d"
      ],
      "metadata": {
        "colab": {
          "base_uri": "https://localhost:8080/"
        },
        "id": "U5k6CgOGE44T",
        "outputId": "db772aba-1d47-47e2-f080-7c9aa05204a6"
      },
      "execution_count": 350,
      "outputs": [
        {
          "output_type": "execute_result",
          "data": {
            "text/plain": [
              "110"
            ]
          },
          "metadata": {},
          "execution_count": 350
        }
      ]
    },
    {
      "cell_type": "code",
      "source": [
        "c+d"
      ],
      "metadata": {
        "colab": {
          "base_uri": "https://localhost:8080/"
        },
        "id": "NXlWOsXsFwGC",
        "outputId": "37b4099d-21e8-4f54-f31a-a504718cdd7d"
      },
      "execution_count": 351,
      "outputs": [
        {
          "output_type": "execute_result",
          "data": {
            "text/plain": [
              "45"
            ]
          },
          "metadata": {},
          "execution_count": 351
        }
      ]
    },
    {
      "cell_type": "code",
      "source": [
        "b+c"
      ],
      "metadata": {
        "colab": {
          "base_uri": "https://localhost:8080/"
        },
        "id": "32jO1jzoFxuZ",
        "outputId": "d8ee2a20-de76-442a-f3b6-57d0819e4f4c"
      },
      "execution_count": 352,
      "outputs": [
        {
          "output_type": "execute_result",
          "data": {
            "text/plain": [
              "54"
            ]
          },
          "metadata": {},
          "execution_count": 352
        }
      ]
    },
    {
      "cell_type": "code",
      "source": [
        "g+b+c+f"
      ],
      "metadata": {
        "colab": {
          "base_uri": "https://localhost:8080/"
        },
        "id": "waiQLANDFzCe",
        "outputId": "ef50bca9-dea8-437e-ffdb-9c09f6fde0f3"
      },
      "execution_count": 353,
      "outputs": [
        {
          "output_type": "execute_result",
          "data": {
            "text/plain": [
              "1671"
            ]
          },
          "metadata": {},
          "execution_count": 353
        }
      ]
    },
    {
      "cell_type": "code",
      "source": [
        "c+f"
      ],
      "metadata": {
        "colab": {
          "base_uri": "https://localhost:8080/"
        },
        "id": "yBnhHKs0F0vw",
        "outputId": "beeba32c-93d0-41b9-9d70-f2b5a25b8152"
      },
      "execution_count": 354,
      "outputs": [
        {
          "output_type": "execute_result",
          "data": {
            "text/plain": [
              "450"
            ]
          },
          "metadata": {},
          "execution_count": 354
        }
      ]
    },
    {
      "cell_type": "code",
      "source": [
        "c+d+e+f"
      ],
      "metadata": {
        "colab": {
          "base_uri": "https://localhost:8080/"
        },
        "id": "KmAXsGX4F3L4",
        "outputId": "2adb81c4-fe91-4419-84e6-3f33192acd3f"
      },
      "execution_count": 355,
      "outputs": [
        {
          "output_type": "execute_result",
          "data": {
            "text/plain": [
              "1110"
            ]
          },
          "metadata": {},
          "execution_count": 355
        }
      ]
    },
    {
      "cell_type": "code",
      "source": [
        "1199/417"
      ],
      "metadata": {
        "colab": {
          "base_uri": "https://localhost:8080/"
        },
        "id": "a0RmXAwbF42J",
        "outputId": "3cdfa31f-f5b6-44bd-be33-cd3e3624c0ec"
      },
      "execution_count": 190,
      "outputs": [
        {
          "output_type": "execute_result",
          "data": {
            "text/plain": [
              "2.8752997601918464"
            ]
          },
          "metadata": {},
          "execution_count": 190
        }
      ]
    },
    {
      "cell_type": "code",
      "source": [
        "43/11"
      ],
      "metadata": {
        "colab": {
          "base_uri": "https://localhost:8080/"
        },
        "id": "S56mxW8_Govu",
        "outputId": "f6e1742a-8637-473a-f308-74c4fc97a87a"
      },
      "execution_count": 191,
      "outputs": [
        {
          "output_type": "execute_result",
          "data": {
            "text/plain": [
              "3.909090909090909"
            ]
          },
          "metadata": {},
          "execution_count": 191
        }
      ]
    },
    {
      "cell_type": "code",
      "source": [
        "1/(22/34)"
      ],
      "metadata": {
        "colab": {
          "base_uri": "https://localhost:8080/"
        },
        "id": "v22L9zJsGp_R",
        "outputId": "24ec91e4-2085-408c-864b-d4abac48bba4"
      },
      "execution_count": 195,
      "outputs": [
        {
          "output_type": "execute_result",
          "data": {
            "text/plain": [
              "1.5454545454545454"
            ]
          },
          "metadata": {},
          "execution_count": 195
        }
      ]
    },
    {
      "cell_type": "code",
      "source": [
        "1/((1199+22)/(417+34))"
      ],
      "metadata": {
        "colab": {
          "base_uri": "https://localhost:8080/"
        },
        "id": "D8wPgwKEGrDU",
        "outputId": "22250a3f-0971-4b80-9741-8f5d0a1e5197"
      },
      "execution_count": 194,
      "outputs": [
        {
          "output_type": "execute_result",
          "data": {
            "text/plain": [
              "0.36936936936936937"
            ]
          },
          "metadata": {},
          "execution_count": 194
        }
      ]
    },
    {
      "cell_type": "code",
      "source": [
        "(1/(22/34))/(1/((1199+22)/(417+34)))"
      ],
      "metadata": {
        "colab": {
          "base_uri": "https://localhost:8080/"
        },
        "id": "626fjsm-GwJi",
        "outputId": "355da3c2-d807-4d55-ee70-5dbc790faf2b"
      },
      "execution_count": 197,
      "outputs": [
        {
          "output_type": "execute_result",
          "data": {
            "text/plain": [
              "4.184035476718403"
            ]
          },
          "metadata": {},
          "execution_count": 197
        }
      ]
    },
    {
      "cell_type": "code",
      "source": [
        "!pip install matplotlib-venn"
      ],
      "metadata": {
        "colab": {
          "base_uri": "https://localhost:8080/"
        },
        "id": "H9GwHD6ZLTC1",
        "outputId": "a5b931f7-ad04-4487-8c02-4ab27d16a59f"
      },
      "execution_count": 198,
      "outputs": [
        {
          "output_type": "stream",
          "name": "stdout",
          "text": [
            "Requirement already satisfied: matplotlib-venn in /usr/local/lib/python3.10/dist-packages (0.11.9)\n",
            "Requirement already satisfied: matplotlib in /usr/local/lib/python3.10/dist-packages (from matplotlib-venn) (3.7.1)\n",
            "Requirement already satisfied: numpy in /usr/local/lib/python3.10/dist-packages (from matplotlib-venn) (1.22.4)\n",
            "Requirement already satisfied: scipy in /usr/local/lib/python3.10/dist-packages (from matplotlib-venn) (1.10.1)\n",
            "Requirement already satisfied: contourpy>=1.0.1 in /usr/local/lib/python3.10/dist-packages (from matplotlib->matplotlib-venn) (1.1.0)\n",
            "Requirement already satisfied: cycler>=0.10 in /usr/local/lib/python3.10/dist-packages (from matplotlib->matplotlib-venn) (0.11.0)\n",
            "Requirement already satisfied: fonttools>=4.22.0 in /usr/local/lib/python3.10/dist-packages (from matplotlib->matplotlib-venn) (4.40.0)\n",
            "Requirement already satisfied: kiwisolver>=1.0.1 in /usr/local/lib/python3.10/dist-packages (from matplotlib->matplotlib-venn) (1.4.4)\n",
            "Requirement already satisfied: packaging>=20.0 in /usr/local/lib/python3.10/dist-packages (from matplotlib->matplotlib-venn) (23.1)\n",
            "Requirement already satisfied: pillow>=6.2.0 in /usr/local/lib/python3.10/dist-packages (from matplotlib->matplotlib-venn) (8.4.0)\n",
            "Requirement already satisfied: pyparsing>=2.3.1 in /usr/local/lib/python3.10/dist-packages (from matplotlib->matplotlib-venn) (3.1.0)\n",
            "Requirement already satisfied: python-dateutil>=2.7 in /usr/local/lib/python3.10/dist-packages (from matplotlib->matplotlib-venn) (2.8.2)\n",
            "Requirement already satisfied: six>=1.5 in /usr/local/lib/python3.10/dist-packages (from python-dateutil>=2.7->matplotlib->matplotlib-venn) (1.16.0)\n"
          ]
        }
      ]
    },
    {
      "cell_type": "code",
      "source": [
        "from matplotlib_venn import venn2, venn3, venn3_circles\n",
        "import matplotlib.pyplot as plt\n",
        "import itertools\n"
      ],
      "metadata": {
        "id": "-Z5TCA-8LWd5"
      },
      "execution_count": 222,
      "outputs": []
    },
    {
      "cell_type": "code",
      "source": [
        "plt.figure(figsize=(10, 8))\n",
        "# Generate the Venn diagram\n",
        "venn3_circles(subsets=(g, a, b, e, f, d, c),linestyle='dashed', normalize_to=5)\n",
        "venn_diagram = venn3(subsets=(g, a, b, e, f, d, c), alpha=0.3, set_labels=('PARK2', 'LRRK2', 'RQC'), normalize_to=5)\n",
        "\n",
        "venn_diagram.get_label_by_id('100').set_position((-0.5, 0.7))\n",
        "venn_diagram.get_label_by_id('010').set_position((0.87, 0.38))\n",
        "venn_diagram.get_label_by_id('011').set_position((0.82, 0.14))\n",
        "venn_diagram.get_label_by_id('111').set_position((0.62, 0.2))\n",
        "venn_diagram.get_label_by_id('110').set_position((0.63, 0.42))\n",
        "combinations = list(itertools.product([\"0\", \"1\"], repeat=3))\n",
        "combinations.remove((\"0\",\"0\",\"0\"))\n",
        "for i in combinations:\n",
        "  venn_diagram.get_label_by_id(''.join(i)).set_fontsize(15)\n",
        "\n",
        "\n",
        "plt.show()"
      ],
      "metadata": {
        "colab": {
          "base_uri": "https://localhost:8080/",
          "height": 668
        },
        "id": "-TdH1LFdPXG_",
        "outputId": "1238bd89-db40-42a9-cfcd-4c5f563f0dee"
      },
      "execution_count": 356,
      "outputs": [
        {
          "output_type": "display_data",
          "data": {
            "text/plain": [
              "<Figure size 1000x800 with 1 Axes>"
            ],
            "image/png": "[encoded data removed]"
          },
          "metadata": {}
        }
      ]
    },
    {
      "cell_type": "code",
      "source": [
        "import scipy"
      ],
      "metadata": {
        "id": "z6X-4f3JLcL0"
      },
      "execution_count": 360,
      "outputs": []
    },
    {
      "cell_type": "code",
      "source": [
        "data = [[a, b], [c, d]]\n",
        "scipy.stats.fisher_exact(data)"
      ],
      "metadata": {
        "colab": {
          "base_uri": "https://localhost:8080/"
        },
        "id": "lBpaiiJ8LvX-",
        "outputId": "5b32f257-201f-430b-c51c-61cc4c3d4e32"
      },
      "execution_count": 361,
      "outputs": [
        {
          "output_type": "execute_result",
          "data": {
            "text/plain": [
              "SignificanceResult(statistic=0.7619047619047619, pvalue=0.6725712473721829)"
            ]
          },
          "metadata": {},
          "execution_count": 361
        }
      ]
    },
    {
      "cell_type": "code",
      "source": [
        "data = [[21, 44], [33, 12]]\n",
        "scipy.stats.fisher_exact(data)"
      ],
      "metadata": {
        "colab": {
          "base_uri": "https://localhost:8080/"
        },
        "id": "06ZLuUEvggf_",
        "outputId": "e31aa43b-4523-468d-b2ac-93b3af1483c4"
      },
      "execution_count": 363,
      "outputs": [
        {
          "output_type": "execute_result",
          "data": {
            "text/plain": [
              "SignificanceResult(statistic=0.17355371900826447, pvalue=3.6509456534759906e-05)"
            ]
          },
          "metadata": {},
          "execution_count": 363
        }
      ]
    },
    {
      "cell_type": "code",
      "source": [
        "data = [[21, 1200], [33, 417]]\n",
        "scipy.stats.fisher_exact(data)"
      ],
      "metadata": {
        "colab": {
          "base_uri": "https://localhost:8080/"
        },
        "id": "LWv26qYCgoZ7",
        "outputId": "bcfce58d-1935-4755-85d4-d86a6c751e31"
      },
      "execution_count": 364,
      "outputs": [
        {
          "output_type": "execute_result",
          "data": {
            "text/plain": [
              "SignificanceResult(statistic=0.22113636363636363, pvalue=1.1753964903813303e-07)"
            ]
          },
          "metadata": {},
          "execution_count": 364
        }
      ]
    },
    {
      "cell_type": "code",
      "source": [
        "data = [[44, 12], [21, 33]]\n",
        "scipy.stats.fisher_exact(data)"
      ],
      "metadata": {
        "colab": {
          "base_uri": "https://localhost:8080/"
        },
        "id": "T6MRdMlbgzSD",
        "outputId": "4a545043-4c78-44b6-dd07-676bb086b340"
      },
      "execution_count": 365,
      "outputs": [
        {
          "output_type": "execute_result",
          "data": {
            "text/plain": [
              "SignificanceResult(statistic=5.761904761904762, pvalue=3.650945653475991e-05)"
            ]
          },
          "metadata": {},
          "execution_count": 365
        }
      ]
    },
    {
      "cell_type": "code",
      "source": [
        "21/65"
      ],
      "metadata": {
        "colab": {
          "base_uri": "https://localhost:8080/"
        },
        "id": "aSEV2Ijeg6wf",
        "outputId": "cd284f36-4081-45ca-f421-5215743e69ac"
      },
      "execution_count": 370,
      "outputs": [
        {
          "output_type": "execute_result",
          "data": {
            "text/plain": [
              "0.3230769230769231"
            ]
          },
          "metadata": {},
          "execution_count": 370
        }
      ]
    },
    {
      "cell_type": "code",
      "source": [],
      "metadata": {
        "id": "EywE6hC2tX5o"
      },
      "execution_count": null,
      "outputs": []
    }
  ]
}